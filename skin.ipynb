{
 "cells": [
  {
   "cell_type": "markdown",
   "id": "89669abe",
   "metadata": {},
   "source": [
    " In this case, since you have a multi-class classification problem with a relatively small number of instances (366) and a moderate number of attributes (34), you might want to start by trying out a few simple algorithms such as \n",
    " #### logistic regression, decision trees, and random forests. \n",
    " These algorithms are relatively fast to train and easy to implement, so you can quickly get a sense of how well they perform on your data."
   ]
  },
  {
   "cell_type": "code",
   "execution_count": null,
   "id": "2cd3e8c1",
   "metadata": {},
   "outputs": [],
   "source": []
  },
  {
   "cell_type": "code",
   "execution_count": null,
   "id": "2c12ecf8",
   "metadata": {},
   "outputs": [],
   "source": []
  },
  {
   "cell_type": "code",
   "execution_count": 269,
   "id": "cb50f608",
   "metadata": {},
   "outputs": [],
   "source": [
    "import pandas as pd\n",
    "import matplotlib.pyplot as plt\n",
    "import seaborn as sns\n",
    "import numpy as np\n",
    "\n",
    "np.random.seed(2)\n"
   ]
  },
  {
   "cell_type": "code",
   "execution_count": null,
   "id": "f6e9ad80",
   "metadata": {},
   "outputs": [],
   "source": []
  },
  {
   "cell_type": "code",
   "execution_count": 380,
   "id": "a6d769d7",
   "metadata": {},
   "outputs": [],
   "source": [
    "df = pd.read_csv('data/dermatology_csv.csv')"
   ]
  },
  {
   "cell_type": "code",
   "execution_count": 378,
   "id": "41560434",
   "metadata": {},
   "outputs": [
    {
     "data": {
      "text/html": [
       "<div>\n",
       "<style scoped>\n",
       "    .dataframe tbody tr th:only-of-type {\n",
       "        vertical-align: middle;\n",
       "    }\n",
       "\n",
       "    .dataframe tbody tr th {\n",
       "        vertical-align: top;\n",
       "    }\n",
       "\n",
       "    .dataframe thead th {\n",
       "        text-align: right;\n",
       "    }\n",
       "</style>\n",
       "<table border=\"1\" class=\"dataframe\">\n",
       "  <thead>\n",
       "    <tr style=\"text-align: right;\">\n",
       "      <th></th>\n",
       "      <th>erythema</th>\n",
       "      <th>scaling</th>\n",
       "      <th>definite_borders</th>\n",
       "      <th>itching</th>\n",
       "      <th>koebner_phenomenon</th>\n",
       "      <th>polygonal_papules</th>\n",
       "      <th>follicular_papules</th>\n",
       "      <th>oral_mucosal_involvement</th>\n",
       "      <th>knee_and_elbow_involvement</th>\n",
       "      <th>scalp_involvement</th>\n",
       "      <th>...</th>\n",
       "      <th>disappearance_of_the_granular_layer</th>\n",
       "      <th>vacuolisation_and_damage_of_basal_layer</th>\n",
       "      <th>spongiosis</th>\n",
       "      <th>saw-tooth_appearance_of_retes</th>\n",
       "      <th>follicular_horn_plug</th>\n",
       "      <th>perifollicular_parakeratosis</th>\n",
       "      <th>inflammatory_monoluclear_inflitrate</th>\n",
       "      <th>band-like_infiltrate</th>\n",
       "      <th>age</th>\n",
       "      <th>class</th>\n",
       "    </tr>\n",
       "  </thead>\n",
       "  <tbody>\n",
       "    <tr>\n",
       "      <th>0</th>\n",
       "      <td>2</td>\n",
       "      <td>2</td>\n",
       "      <td>0</td>\n",
       "      <td>3</td>\n",
       "      <td>0</td>\n",
       "      <td>0</td>\n",
       "      <td>0</td>\n",
       "      <td>0</td>\n",
       "      <td>1</td>\n",
       "      <td>0</td>\n",
       "      <td>...</td>\n",
       "      <td>0</td>\n",
       "      <td>0</td>\n",
       "      <td>3</td>\n",
       "      <td>0</td>\n",
       "      <td>0</td>\n",
       "      <td>0</td>\n",
       "      <td>1</td>\n",
       "      <td>0</td>\n",
       "      <td>55.0</td>\n",
       "      <td>2</td>\n",
       "    </tr>\n",
       "    <tr>\n",
       "      <th>1</th>\n",
       "      <td>3</td>\n",
       "      <td>3</td>\n",
       "      <td>3</td>\n",
       "      <td>2</td>\n",
       "      <td>1</td>\n",
       "      <td>0</td>\n",
       "      <td>0</td>\n",
       "      <td>0</td>\n",
       "      <td>1</td>\n",
       "      <td>1</td>\n",
       "      <td>...</td>\n",
       "      <td>0</td>\n",
       "      <td>0</td>\n",
       "      <td>0</td>\n",
       "      <td>0</td>\n",
       "      <td>0</td>\n",
       "      <td>0</td>\n",
       "      <td>1</td>\n",
       "      <td>0</td>\n",
       "      <td>8.0</td>\n",
       "      <td>1</td>\n",
       "    </tr>\n",
       "    <tr>\n",
       "      <th>2</th>\n",
       "      <td>2</td>\n",
       "      <td>1</td>\n",
       "      <td>2</td>\n",
       "      <td>3</td>\n",
       "      <td>1</td>\n",
       "      <td>3</td>\n",
       "      <td>0</td>\n",
       "      <td>3</td>\n",
       "      <td>0</td>\n",
       "      <td>0</td>\n",
       "      <td>...</td>\n",
       "      <td>0</td>\n",
       "      <td>2</td>\n",
       "      <td>3</td>\n",
       "      <td>2</td>\n",
       "      <td>0</td>\n",
       "      <td>0</td>\n",
       "      <td>2</td>\n",
       "      <td>3</td>\n",
       "      <td>26.0</td>\n",
       "      <td>3</td>\n",
       "    </tr>\n",
       "    <tr>\n",
       "      <th>3</th>\n",
       "      <td>2</td>\n",
       "      <td>2</td>\n",
       "      <td>2</td>\n",
       "      <td>0</td>\n",
       "      <td>0</td>\n",
       "      <td>0</td>\n",
       "      <td>0</td>\n",
       "      <td>0</td>\n",
       "      <td>3</td>\n",
       "      <td>2</td>\n",
       "      <td>...</td>\n",
       "      <td>3</td>\n",
       "      <td>0</td>\n",
       "      <td>0</td>\n",
       "      <td>0</td>\n",
       "      <td>0</td>\n",
       "      <td>0</td>\n",
       "      <td>3</td>\n",
       "      <td>0</td>\n",
       "      <td>40.0</td>\n",
       "      <td>1</td>\n",
       "    </tr>\n",
       "    <tr>\n",
       "      <th>4</th>\n",
       "      <td>2</td>\n",
       "      <td>3</td>\n",
       "      <td>2</td>\n",
       "      <td>2</td>\n",
       "      <td>2</td>\n",
       "      <td>2</td>\n",
       "      <td>0</td>\n",
       "      <td>2</td>\n",
       "      <td>0</td>\n",
       "      <td>0</td>\n",
       "      <td>...</td>\n",
       "      <td>2</td>\n",
       "      <td>3</td>\n",
       "      <td>2</td>\n",
       "      <td>3</td>\n",
       "      <td>0</td>\n",
       "      <td>0</td>\n",
       "      <td>2</td>\n",
       "      <td>3</td>\n",
       "      <td>45.0</td>\n",
       "      <td>3</td>\n",
       "    </tr>\n",
       "  </tbody>\n",
       "</table>\n",
       "<p>5 rows × 35 columns</p>\n",
       "</div>"
      ],
      "text/plain": [
       "   erythema  scaling  definite_borders  itching  koebner_phenomenon  \\\n",
       "0         2        2                 0        3                   0   \n",
       "1         3        3                 3        2                   1   \n",
       "2         2        1                 2        3                   1   \n",
       "3         2        2                 2        0                   0   \n",
       "4         2        3                 2        2                   2   \n",
       "\n",
       "   polygonal_papules  follicular_papules  oral_mucosal_involvement  \\\n",
       "0                  0                   0                         0   \n",
       "1                  0                   0                         0   \n",
       "2                  3                   0                         3   \n",
       "3                  0                   0                         0   \n",
       "4                  2                   0                         2   \n",
       "\n",
       "   knee_and_elbow_involvement  scalp_involvement  ...  \\\n",
       "0                           1                  0  ...   \n",
       "1                           1                  1  ...   \n",
       "2                           0                  0  ...   \n",
       "3                           3                  2  ...   \n",
       "4                           0                  0  ...   \n",
       "\n",
       "   disappearance_of_the_granular_layer  \\\n",
       "0                                    0   \n",
       "1                                    0   \n",
       "2                                    0   \n",
       "3                                    3   \n",
       "4                                    2   \n",
       "\n",
       "   vacuolisation_and_damage_of_basal_layer  spongiosis  \\\n",
       "0                                        0           3   \n",
       "1                                        0           0   \n",
       "2                                        2           3   \n",
       "3                                        0           0   \n",
       "4                                        3           2   \n",
       "\n",
       "   saw-tooth_appearance_of_retes  follicular_horn_plug  \\\n",
       "0                              0                     0   \n",
       "1                              0                     0   \n",
       "2                              2                     0   \n",
       "3                              0                     0   \n",
       "4                              3                     0   \n",
       "\n",
       "   perifollicular_parakeratosis  inflammatory_monoluclear_inflitrate  \\\n",
       "0                             0                                    1   \n",
       "1                             0                                    1   \n",
       "2                             0                                    2   \n",
       "3                             0                                    3   \n",
       "4                             0                                    2   \n",
       "\n",
       "   band-like_infiltrate   age  class  \n",
       "0                     0  55.0      2  \n",
       "1                     0   8.0      1  \n",
       "2                     3  26.0      3  \n",
       "3                     0  40.0      1  \n",
       "4                     3  45.0      3  \n",
       "\n",
       "[5 rows x 35 columns]"
      ]
     },
     "execution_count": 378,
     "metadata": {},
     "output_type": "execute_result"
    }
   ],
   "source": [
    "df.head()"
   ]
  },
  {
   "cell_type": "code",
   "execution_count": null,
   "id": "c334596d",
   "metadata": {},
   "outputs": [],
   "source": []
  },
  {
   "cell_type": "code",
   "execution_count": 381,
   "id": "a6edf914",
   "metadata": {},
   "outputs": [
    {
     "data": {
      "text/html": [
       "<div>\n",
       "<style scoped>\n",
       "    .dataframe tbody tr th:only-of-type {\n",
       "        vertical-align: middle;\n",
       "    }\n",
       "\n",
       "    .dataframe tbody tr th {\n",
       "        vertical-align: top;\n",
       "    }\n",
       "\n",
       "    .dataframe thead th {\n",
       "        text-align: right;\n",
       "    }\n",
       "</style>\n",
       "<table border=\"1\" class=\"dataframe\">\n",
       "  <thead>\n",
       "    <tr style=\"text-align: right;\">\n",
       "      <th></th>\n",
       "      <th>erythema</th>\n",
       "      <th>scaling</th>\n",
       "      <th>definite_borders</th>\n",
       "      <th>itching</th>\n",
       "      <th>koebner_phenomenon</th>\n",
       "      <th>polygonal_papules</th>\n",
       "      <th>follicular_papules</th>\n",
       "      <th>oral_mucosal_involvement</th>\n",
       "      <th>knee_and_elbow_involvement</th>\n",
       "      <th>scalp_involvement</th>\n",
       "      <th>...</th>\n",
       "      <th>disappearance_of_the_granular_layer</th>\n",
       "      <th>vacuolisation_and_damage_of_basal_layer</th>\n",
       "      <th>spongiosis</th>\n",
       "      <th>saw-tooth_appearance_of_retes</th>\n",
       "      <th>follicular_horn_plug</th>\n",
       "      <th>perifollicular_parakeratosis</th>\n",
       "      <th>inflammatory_monoluclear_inflitrate</th>\n",
       "      <th>band-like_infiltrate</th>\n",
       "      <th>age</th>\n",
       "      <th>class</th>\n",
       "    </tr>\n",
       "  </thead>\n",
       "  <tbody>\n",
       "    <tr>\n",
       "      <th>0</th>\n",
       "      <td>2</td>\n",
       "      <td>2</td>\n",
       "      <td>0</td>\n",
       "      <td>3</td>\n",
       "      <td>0</td>\n",
       "      <td>0</td>\n",
       "      <td>0</td>\n",
       "      <td>0</td>\n",
       "      <td>1</td>\n",
       "      <td>0</td>\n",
       "      <td>...</td>\n",
       "      <td>0</td>\n",
       "      <td>0</td>\n",
       "      <td>3</td>\n",
       "      <td>0</td>\n",
       "      <td>0</td>\n",
       "      <td>0</td>\n",
       "      <td>1</td>\n",
       "      <td>0</td>\n",
       "      <td>55.0</td>\n",
       "      <td>2</td>\n",
       "    </tr>\n",
       "    <tr>\n",
       "      <th>1</th>\n",
       "      <td>3</td>\n",
       "      <td>3</td>\n",
       "      <td>3</td>\n",
       "      <td>2</td>\n",
       "      <td>1</td>\n",
       "      <td>0</td>\n",
       "      <td>0</td>\n",
       "      <td>0</td>\n",
       "      <td>1</td>\n",
       "      <td>1</td>\n",
       "      <td>...</td>\n",
       "      <td>0</td>\n",
       "      <td>0</td>\n",
       "      <td>0</td>\n",
       "      <td>0</td>\n",
       "      <td>0</td>\n",
       "      <td>0</td>\n",
       "      <td>1</td>\n",
       "      <td>0</td>\n",
       "      <td>8.0</td>\n",
       "      <td>1</td>\n",
       "    </tr>\n",
       "    <tr>\n",
       "      <th>2</th>\n",
       "      <td>2</td>\n",
       "      <td>1</td>\n",
       "      <td>2</td>\n",
       "      <td>3</td>\n",
       "      <td>1</td>\n",
       "      <td>3</td>\n",
       "      <td>0</td>\n",
       "      <td>3</td>\n",
       "      <td>0</td>\n",
       "      <td>0</td>\n",
       "      <td>...</td>\n",
       "      <td>0</td>\n",
       "      <td>2</td>\n",
       "      <td>3</td>\n",
       "      <td>2</td>\n",
       "      <td>0</td>\n",
       "      <td>0</td>\n",
       "      <td>2</td>\n",
       "      <td>3</td>\n",
       "      <td>26.0</td>\n",
       "      <td>3</td>\n",
       "    </tr>\n",
       "    <tr>\n",
       "      <th>3</th>\n",
       "      <td>2</td>\n",
       "      <td>2</td>\n",
       "      <td>2</td>\n",
       "      <td>0</td>\n",
       "      <td>0</td>\n",
       "      <td>0</td>\n",
       "      <td>0</td>\n",
       "      <td>0</td>\n",
       "      <td>3</td>\n",
       "      <td>2</td>\n",
       "      <td>...</td>\n",
       "      <td>3</td>\n",
       "      <td>0</td>\n",
       "      <td>0</td>\n",
       "      <td>0</td>\n",
       "      <td>0</td>\n",
       "      <td>0</td>\n",
       "      <td>3</td>\n",
       "      <td>0</td>\n",
       "      <td>40.0</td>\n",
       "      <td>1</td>\n",
       "    </tr>\n",
       "    <tr>\n",
       "      <th>4</th>\n",
       "      <td>2</td>\n",
       "      <td>3</td>\n",
       "      <td>2</td>\n",
       "      <td>2</td>\n",
       "      <td>2</td>\n",
       "      <td>2</td>\n",
       "      <td>0</td>\n",
       "      <td>2</td>\n",
       "      <td>0</td>\n",
       "      <td>0</td>\n",
       "      <td>...</td>\n",
       "      <td>2</td>\n",
       "      <td>3</td>\n",
       "      <td>2</td>\n",
       "      <td>3</td>\n",
       "      <td>0</td>\n",
       "      <td>0</td>\n",
       "      <td>2</td>\n",
       "      <td>3</td>\n",
       "      <td>45.0</td>\n",
       "      <td>3</td>\n",
       "    </tr>\n",
       "    <tr>\n",
       "      <th>...</th>\n",
       "      <td>...</td>\n",
       "      <td>...</td>\n",
       "      <td>...</td>\n",
       "      <td>...</td>\n",
       "      <td>...</td>\n",
       "      <td>...</td>\n",
       "      <td>...</td>\n",
       "      <td>...</td>\n",
       "      <td>...</td>\n",
       "      <td>...</td>\n",
       "      <td>...</td>\n",
       "      <td>...</td>\n",
       "      <td>...</td>\n",
       "      <td>...</td>\n",
       "      <td>...</td>\n",
       "      <td>...</td>\n",
       "      <td>...</td>\n",
       "      <td>...</td>\n",
       "      <td>...</td>\n",
       "      <td>...</td>\n",
       "      <td>...</td>\n",
       "    </tr>\n",
       "    <tr>\n",
       "      <th>361</th>\n",
       "      <td>2</td>\n",
       "      <td>1</td>\n",
       "      <td>1</td>\n",
       "      <td>0</td>\n",
       "      <td>1</td>\n",
       "      <td>0</td>\n",
       "      <td>0</td>\n",
       "      <td>0</td>\n",
       "      <td>0</td>\n",
       "      <td>0</td>\n",
       "      <td>...</td>\n",
       "      <td>0</td>\n",
       "      <td>0</td>\n",
       "      <td>1</td>\n",
       "      <td>0</td>\n",
       "      <td>0</td>\n",
       "      <td>0</td>\n",
       "      <td>2</td>\n",
       "      <td>0</td>\n",
       "      <td>25.0</td>\n",
       "      <td>4</td>\n",
       "    </tr>\n",
       "    <tr>\n",
       "      <th>362</th>\n",
       "      <td>3</td>\n",
       "      <td>2</td>\n",
       "      <td>1</td>\n",
       "      <td>0</td>\n",
       "      <td>1</td>\n",
       "      <td>0</td>\n",
       "      <td>0</td>\n",
       "      <td>0</td>\n",
       "      <td>0</td>\n",
       "      <td>0</td>\n",
       "      <td>...</td>\n",
       "      <td>1</td>\n",
       "      <td>0</td>\n",
       "      <td>1</td>\n",
       "      <td>0</td>\n",
       "      <td>0</td>\n",
       "      <td>0</td>\n",
       "      <td>2</td>\n",
       "      <td>0</td>\n",
       "      <td>36.0</td>\n",
       "      <td>4</td>\n",
       "    </tr>\n",
       "    <tr>\n",
       "      <th>363</th>\n",
       "      <td>3</td>\n",
       "      <td>2</td>\n",
       "      <td>2</td>\n",
       "      <td>2</td>\n",
       "      <td>3</td>\n",
       "      <td>2</td>\n",
       "      <td>0</td>\n",
       "      <td>2</td>\n",
       "      <td>0</td>\n",
       "      <td>0</td>\n",
       "      <td>...</td>\n",
       "      <td>0</td>\n",
       "      <td>3</td>\n",
       "      <td>0</td>\n",
       "      <td>3</td>\n",
       "      <td>0</td>\n",
       "      <td>0</td>\n",
       "      <td>2</td>\n",
       "      <td>3</td>\n",
       "      <td>28.0</td>\n",
       "      <td>3</td>\n",
       "    </tr>\n",
       "    <tr>\n",
       "      <th>364</th>\n",
       "      <td>2</td>\n",
       "      <td>1</td>\n",
       "      <td>3</td>\n",
       "      <td>1</td>\n",
       "      <td>2</td>\n",
       "      <td>3</td>\n",
       "      <td>0</td>\n",
       "      <td>2</td>\n",
       "      <td>0</td>\n",
       "      <td>0</td>\n",
       "      <td>...</td>\n",
       "      <td>0</td>\n",
       "      <td>2</td>\n",
       "      <td>0</td>\n",
       "      <td>1</td>\n",
       "      <td>0</td>\n",
       "      <td>0</td>\n",
       "      <td>2</td>\n",
       "      <td>3</td>\n",
       "      <td>50.0</td>\n",
       "      <td>3</td>\n",
       "    </tr>\n",
       "    <tr>\n",
       "      <th>365</th>\n",
       "      <td>3</td>\n",
       "      <td>2</td>\n",
       "      <td>2</td>\n",
       "      <td>0</td>\n",
       "      <td>0</td>\n",
       "      <td>0</td>\n",
       "      <td>0</td>\n",
       "      <td>0</td>\n",
       "      <td>3</td>\n",
       "      <td>3</td>\n",
       "      <td>...</td>\n",
       "      <td>2</td>\n",
       "      <td>0</td>\n",
       "      <td>0</td>\n",
       "      <td>0</td>\n",
       "      <td>0</td>\n",
       "      <td>0</td>\n",
       "      <td>3</td>\n",
       "      <td>0</td>\n",
       "      <td>35.0</td>\n",
       "      <td>1</td>\n",
       "    </tr>\n",
       "  </tbody>\n",
       "</table>\n",
       "<p>366 rows × 35 columns</p>\n",
       "</div>"
      ],
      "text/plain": [
       "     erythema  scaling  definite_borders  itching  koebner_phenomenon  \\\n",
       "0           2        2                 0        3                   0   \n",
       "1           3        3                 3        2                   1   \n",
       "2           2        1                 2        3                   1   \n",
       "3           2        2                 2        0                   0   \n",
       "4           2        3                 2        2                   2   \n",
       "..        ...      ...               ...      ...                 ...   \n",
       "361         2        1                 1        0                   1   \n",
       "362         3        2                 1        0                   1   \n",
       "363         3        2                 2        2                   3   \n",
       "364         2        1                 3        1                   2   \n",
       "365         3        2                 2        0                   0   \n",
       "\n",
       "     polygonal_papules  follicular_papules  oral_mucosal_involvement  \\\n",
       "0                    0                   0                         0   \n",
       "1                    0                   0                         0   \n",
       "2                    3                   0                         3   \n",
       "3                    0                   0                         0   \n",
       "4                    2                   0                         2   \n",
       "..                 ...                 ...                       ...   \n",
       "361                  0                   0                         0   \n",
       "362                  0                   0                         0   \n",
       "363                  2                   0                         2   \n",
       "364                  3                   0                         2   \n",
       "365                  0                   0                         0   \n",
       "\n",
       "     knee_and_elbow_involvement  scalp_involvement  ...  \\\n",
       "0                             1                  0  ...   \n",
       "1                             1                  1  ...   \n",
       "2                             0                  0  ...   \n",
       "3                             3                  2  ...   \n",
       "4                             0                  0  ...   \n",
       "..                          ...                ...  ...   \n",
       "361                           0                  0  ...   \n",
       "362                           0                  0  ...   \n",
       "363                           0                  0  ...   \n",
       "364                           0                  0  ...   \n",
       "365                           3                  3  ...   \n",
       "\n",
       "     disappearance_of_the_granular_layer  \\\n",
       "0                                      0   \n",
       "1                                      0   \n",
       "2                                      0   \n",
       "3                                      3   \n",
       "4                                      2   \n",
       "..                                   ...   \n",
       "361                                    0   \n",
       "362                                    1   \n",
       "363                                    0   \n",
       "364                                    0   \n",
       "365                                    2   \n",
       "\n",
       "     vacuolisation_and_damage_of_basal_layer  spongiosis  \\\n",
       "0                                          0           3   \n",
       "1                                          0           0   \n",
       "2                                          2           3   \n",
       "3                                          0           0   \n",
       "4                                          3           2   \n",
       "..                                       ...         ...   \n",
       "361                                        0           1   \n",
       "362                                        0           1   \n",
       "363                                        3           0   \n",
       "364                                        2           0   \n",
       "365                                        0           0   \n",
       "\n",
       "     saw-tooth_appearance_of_retes  follicular_horn_plug  \\\n",
       "0                                0                     0   \n",
       "1                                0                     0   \n",
       "2                                2                     0   \n",
       "3                                0                     0   \n",
       "4                                3                     0   \n",
       "..                             ...                   ...   \n",
       "361                              0                     0   \n",
       "362                              0                     0   \n",
       "363                              3                     0   \n",
       "364                              1                     0   \n",
       "365                              0                     0   \n",
       "\n",
       "     perifollicular_parakeratosis  inflammatory_monoluclear_inflitrate  \\\n",
       "0                               0                                    1   \n",
       "1                               0                                    1   \n",
       "2                               0                                    2   \n",
       "3                               0                                    3   \n",
       "4                               0                                    2   \n",
       "..                            ...                                  ...   \n",
       "361                             0                                    2   \n",
       "362                             0                                    2   \n",
       "363                             0                                    2   \n",
       "364                             0                                    2   \n",
       "365                             0                                    3   \n",
       "\n",
       "     band-like_infiltrate   age  class  \n",
       "0                       0  55.0      2  \n",
       "1                       0   8.0      1  \n",
       "2                       3  26.0      3  \n",
       "3                       0  40.0      1  \n",
       "4                       3  45.0      3  \n",
       "..                    ...   ...    ...  \n",
       "361                     0  25.0      4  \n",
       "362                     0  36.0      4  \n",
       "363                     3  28.0      3  \n",
       "364                     3  50.0      3  \n",
       "365                     0  35.0      1  \n",
       "\n",
       "[366 rows x 35 columns]"
      ]
     },
     "execution_count": 381,
     "metadata": {},
     "output_type": "execute_result"
    }
   ],
   "source": [
    "df"
   ]
  },
  {
   "cell_type": "code",
   "execution_count": null,
   "id": "ceac3b32",
   "metadata": {},
   "outputs": [],
   "source": []
  },
  {
   "cell_type": "code",
   "execution_count": 379,
   "id": "c3f950f0",
   "metadata": {},
   "outputs": [
    {
     "name": "stdout",
     "output_type": "stream",
     "text": [
      "<class 'pandas.core.frame.DataFrame'>\n",
      "RangeIndex: 366 entries, 0 to 365\n",
      "Data columns (total 35 columns):\n",
      " #   Column                                    Non-Null Count  Dtype  \n",
      "---  ------                                    --------------  -----  \n",
      " 0   erythema                                  366 non-null    int64  \n",
      " 1   scaling                                   366 non-null    int64  \n",
      " 2   definite_borders                          366 non-null    int64  \n",
      " 3   itching                                   366 non-null    int64  \n",
      " 4   koebner_phenomenon                        366 non-null    int64  \n",
      " 5   polygonal_papules                         366 non-null    int64  \n",
      " 6   follicular_papules                        366 non-null    int64  \n",
      " 7   oral_mucosal_involvement                  366 non-null    int64  \n",
      " 8   knee_and_elbow_involvement                366 non-null    int64  \n",
      " 9   scalp_involvement                         366 non-null    int64  \n",
      " 10  family_history                            366 non-null    int64  \n",
      " 11  melanin_incontinence                      366 non-null    int64  \n",
      " 12  eosinophils_in_the_infiltrate             366 non-null    int64  \n",
      " 13  pnl_infiltrate                            366 non-null    int64  \n",
      " 14  fibrosis_of_the_papillary_dermis          366 non-null    int64  \n",
      " 15  exocytosis                                366 non-null    int64  \n",
      " 16  acanthosis                                366 non-null    int64  \n",
      " 17  hyperkeratosis                            366 non-null    int64  \n",
      " 18  parakeratosis                             366 non-null    int64  \n",
      " 19  clubbing_of_the_rete_ridges               366 non-null    int64  \n",
      " 20  elongation_of_the_rete_ridges             366 non-null    int64  \n",
      " 21  thinning_of_the_suprapapillary_epidermis  366 non-null    int64  \n",
      " 22  spongiform_pustule                        366 non-null    int64  \n",
      " 23  munro_microabcess                         366 non-null    int64  \n",
      " 24  focal_hypergranulosis                     366 non-null    int64  \n",
      " 25  disappearance_of_the_granular_layer       366 non-null    int64  \n",
      " 26  vacuolisation_and_damage_of_basal_layer   366 non-null    int64  \n",
      " 27  spongiosis                                366 non-null    int64  \n",
      " 28  saw-tooth_appearance_of_retes             366 non-null    int64  \n",
      " 29  follicular_horn_plug                      366 non-null    int64  \n",
      " 30  perifollicular_parakeratosis              366 non-null    int64  \n",
      " 31  inflammatory_monoluclear_inflitrate       366 non-null    int64  \n",
      " 32  band-like_infiltrate                      366 non-null    int64  \n",
      " 33  age                                       358 non-null    float64\n",
      " 34  class                                     366 non-null    int64  \n",
      "dtypes: float64(1), int64(34)\n",
      "memory usage: 100.2 KB\n"
     ]
    }
   ],
   "source": [
    "df.info()"
   ]
  },
  {
   "cell_type": "code",
   "execution_count": null,
   "id": "c287ce14",
   "metadata": {},
   "outputs": [],
   "source": []
  },
  {
   "cell_type": "markdown",
   "id": "71c59fa5",
   "metadata": {},
   "source": [
    "# Data Preprocessing"
   ]
  },
  {
   "cell_type": "markdown",
   "id": "1b6f4d5e",
   "metadata": {},
   "source": [
    "Data Cleaning"
   ]
  },
  {
   "cell_type": "code",
   "execution_count": 188,
   "id": "7c772c26",
   "metadata": {},
   "outputs": [
    {
     "data": {
      "text/plain": [
       "erythema                                    0\n",
       "scaling                                     0\n",
       "definite_borders                            0\n",
       "itching                                     0\n",
       "koebner_phenomenon                          0\n",
       "polygonal_papules                           0\n",
       "follicular_papules                          0\n",
       "oral_mucosal_involvement                    0\n",
       "knee_and_elbow_involvement                  0\n",
       "scalp_involvement                           0\n",
       "family_history                              0\n",
       "melanin_incontinence                        0\n",
       "eosinophils_in_the_infiltrate               0\n",
       "pnl_infiltrate                              0\n",
       "fibrosis_of_the_papillary_dermis            0\n",
       "exocytosis                                  0\n",
       "acanthosis                                  0\n",
       "hyperkeratosis                              0\n",
       "parakeratosis                               0\n",
       "clubbing_of_the_rete_ridges                 0\n",
       "elongation_of_the_rete_ridges               0\n",
       "thinning_of_the_suprapapillary_epidermis    0\n",
       "spongiform_pustule                          0\n",
       "munro_microabcess                           0\n",
       "focal_hypergranulosis                       0\n",
       "disappearance_of_the_granular_layer         0\n",
       "vacuolisation_and_damage_of_basal_layer     0\n",
       "spongiosis                                  0\n",
       "saw-tooth_appearance_of_retes               0\n",
       "follicular_horn_plug                        0\n",
       "perifollicular_parakeratosis                0\n",
       "inflammatory_monoluclear_inflitrate         0\n",
       "band-like_infiltrate                        0\n",
       "age                                         8\n",
       "class                                       0\n",
       "dtype: int64"
      ]
     },
     "execution_count": 188,
     "metadata": {},
     "output_type": "execute_result"
    }
   ],
   "source": [
    "# Checking and handling the null values in the dataset\n",
    "df.isna().sum()"
   ]
  },
  {
   "cell_type": "markdown",
   "id": "436c9d1b",
   "metadata": {},
   "source": [
    "`report`\n",
    "\n",
    "It can be observed from the provided result that there are no null values aside `age`, present in the dataset. This means that no further action needs to be taken in regards to handling null values. This is a beneficial aspect, as the absence of null values allows for the analysis to be conducted without the need to consider missing values."
   ]
  },
  {
   "cell_type": "code",
   "execution_count": null,
   "id": "47cebaac",
   "metadata": {},
   "outputs": [],
   "source": []
  },
  {
   "cell_type": "markdown",
   "id": "b62e606e",
   "metadata": {},
   "source": [
    "data preprocessing"
   ]
  },
  {
   "cell_type": "code",
   "execution_count": 189,
   "id": "39b517e2",
   "metadata": {},
   "outputs": [],
   "source": [
    "# #  Search for '?' in the 'Age' column\n",
    "# missing_values = df[df['age'] == '?']\n",
    "\n",
    "# # Print the number of missing values\n",
    "# print(f\"Number of missing values: {len(missing_values)}\")"
   ]
  },
  {
   "cell_type": "markdown",
   "id": "95aab725",
   "metadata": {},
   "source": [
    "According to the data description, there are 8 missing values in the Age attribute, which are denoted by '?'. However, since there are more than 8 entries in the dataset, dropping these rows will not significantly impact the analysis and modeling."
   ]
  },
  {
   "cell_type": "code",
   "execution_count": 190,
   "id": "3c2c923d",
   "metadata": {},
   "outputs": [],
   "source": [
    "df.dropna(inplace=True)"
   ]
  },
  {
   "cell_type": "code",
   "execution_count": null,
   "id": "add3cf76",
   "metadata": {},
   "outputs": [],
   "source": []
  },
  {
   "cell_type": "code",
   "execution_count": 191,
   "id": "3b665fdc",
   "metadata": {},
   "outputs": [
    {
     "data": {
      "text/plain": [
       "erythema                                    0\n",
       "scaling                                     0\n",
       "definite_borders                            0\n",
       "itching                                     0\n",
       "koebner_phenomenon                          0\n",
       "polygonal_papules                           0\n",
       "follicular_papules                          0\n",
       "oral_mucosal_involvement                    0\n",
       "knee_and_elbow_involvement                  0\n",
       "scalp_involvement                           0\n",
       "family_history                              0\n",
       "melanin_incontinence                        0\n",
       "eosinophils_in_the_infiltrate               0\n",
       "pnl_infiltrate                              0\n",
       "fibrosis_of_the_papillary_dermis            0\n",
       "exocytosis                                  0\n",
       "acanthosis                                  0\n",
       "hyperkeratosis                              0\n",
       "parakeratosis                               0\n",
       "clubbing_of_the_rete_ridges                 0\n",
       "elongation_of_the_rete_ridges               0\n",
       "thinning_of_the_suprapapillary_epidermis    0\n",
       "spongiform_pustule                          0\n",
       "munro_microabcess                           0\n",
       "focal_hypergranulosis                       0\n",
       "disappearance_of_the_granular_layer         0\n",
       "vacuolisation_and_damage_of_basal_layer     0\n",
       "spongiosis                                  0\n",
       "saw-tooth_appearance_of_retes               0\n",
       "follicular_horn_plug                        0\n",
       "perifollicular_parakeratosis                0\n",
       "inflammatory_monoluclear_inflitrate         0\n",
       "band-like_infiltrate                        0\n",
       "age                                         0\n",
       "class                                       0\n",
       "dtype: int64"
      ]
     },
     "execution_count": 191,
     "metadata": {},
     "output_type": "execute_result"
    }
   ],
   "source": [
    "df.isna().sum()"
   ]
  },
  {
   "cell_type": "code",
   "execution_count": 192,
   "id": "a6b9adb3",
   "metadata": {},
   "outputs": [
    {
     "data": {
      "text/html": [
       "<div>\n",
       "<style scoped>\n",
       "    .dataframe tbody tr th:only-of-type {\n",
       "        vertical-align: middle;\n",
       "    }\n",
       "\n",
       "    .dataframe tbody tr th {\n",
       "        vertical-align: top;\n",
       "    }\n",
       "\n",
       "    .dataframe thead th {\n",
       "        text-align: right;\n",
       "    }\n",
       "</style>\n",
       "<table border=\"1\" class=\"dataframe\">\n",
       "  <thead>\n",
       "    <tr style=\"text-align: right;\">\n",
       "      <th></th>\n",
       "      <th>erythema</th>\n",
       "      <th>scaling</th>\n",
       "      <th>definite_borders</th>\n",
       "      <th>itching</th>\n",
       "      <th>koebner_phenomenon</th>\n",
       "      <th>polygonal_papules</th>\n",
       "      <th>follicular_papules</th>\n",
       "      <th>oral_mucosal_involvement</th>\n",
       "      <th>knee_and_elbow_involvement</th>\n",
       "      <th>scalp_involvement</th>\n",
       "      <th>...</th>\n",
       "      <th>disappearance_of_the_granular_layer</th>\n",
       "      <th>vacuolisation_and_damage_of_basal_layer</th>\n",
       "      <th>spongiosis</th>\n",
       "      <th>saw-tooth_appearance_of_retes</th>\n",
       "      <th>follicular_horn_plug</th>\n",
       "      <th>perifollicular_parakeratosis</th>\n",
       "      <th>inflammatory_monoluclear_inflitrate</th>\n",
       "      <th>band-like_infiltrate</th>\n",
       "      <th>age</th>\n",
       "      <th>class</th>\n",
       "    </tr>\n",
       "  </thead>\n",
       "  <tbody>\n",
       "    <tr>\n",
       "      <th>0</th>\n",
       "      <td>2</td>\n",
       "      <td>2</td>\n",
       "      <td>0</td>\n",
       "      <td>3</td>\n",
       "      <td>0</td>\n",
       "      <td>0</td>\n",
       "      <td>0</td>\n",
       "      <td>0</td>\n",
       "      <td>1</td>\n",
       "      <td>0</td>\n",
       "      <td>...</td>\n",
       "      <td>0</td>\n",
       "      <td>0</td>\n",
       "      <td>3</td>\n",
       "      <td>0</td>\n",
       "      <td>0</td>\n",
       "      <td>0</td>\n",
       "      <td>1</td>\n",
       "      <td>0</td>\n",
       "      <td>55.0</td>\n",
       "      <td>2</td>\n",
       "    </tr>\n",
       "    <tr>\n",
       "      <th>1</th>\n",
       "      <td>3</td>\n",
       "      <td>3</td>\n",
       "      <td>3</td>\n",
       "      <td>2</td>\n",
       "      <td>1</td>\n",
       "      <td>0</td>\n",
       "      <td>0</td>\n",
       "      <td>0</td>\n",
       "      <td>1</td>\n",
       "      <td>1</td>\n",
       "      <td>...</td>\n",
       "      <td>0</td>\n",
       "      <td>0</td>\n",
       "      <td>0</td>\n",
       "      <td>0</td>\n",
       "      <td>0</td>\n",
       "      <td>0</td>\n",
       "      <td>1</td>\n",
       "      <td>0</td>\n",
       "      <td>8.0</td>\n",
       "      <td>1</td>\n",
       "    </tr>\n",
       "    <tr>\n",
       "      <th>2</th>\n",
       "      <td>2</td>\n",
       "      <td>1</td>\n",
       "      <td>2</td>\n",
       "      <td>3</td>\n",
       "      <td>1</td>\n",
       "      <td>3</td>\n",
       "      <td>0</td>\n",
       "      <td>3</td>\n",
       "      <td>0</td>\n",
       "      <td>0</td>\n",
       "      <td>...</td>\n",
       "      <td>0</td>\n",
       "      <td>2</td>\n",
       "      <td>3</td>\n",
       "      <td>2</td>\n",
       "      <td>0</td>\n",
       "      <td>0</td>\n",
       "      <td>2</td>\n",
       "      <td>3</td>\n",
       "      <td>26.0</td>\n",
       "      <td>3</td>\n",
       "    </tr>\n",
       "    <tr>\n",
       "      <th>3</th>\n",
       "      <td>2</td>\n",
       "      <td>2</td>\n",
       "      <td>2</td>\n",
       "      <td>0</td>\n",
       "      <td>0</td>\n",
       "      <td>0</td>\n",
       "      <td>0</td>\n",
       "      <td>0</td>\n",
       "      <td>3</td>\n",
       "      <td>2</td>\n",
       "      <td>...</td>\n",
       "      <td>3</td>\n",
       "      <td>0</td>\n",
       "      <td>0</td>\n",
       "      <td>0</td>\n",
       "      <td>0</td>\n",
       "      <td>0</td>\n",
       "      <td>3</td>\n",
       "      <td>0</td>\n",
       "      <td>40.0</td>\n",
       "      <td>1</td>\n",
       "    </tr>\n",
       "    <tr>\n",
       "      <th>4</th>\n",
       "      <td>2</td>\n",
       "      <td>3</td>\n",
       "      <td>2</td>\n",
       "      <td>2</td>\n",
       "      <td>2</td>\n",
       "      <td>2</td>\n",
       "      <td>0</td>\n",
       "      <td>2</td>\n",
       "      <td>0</td>\n",
       "      <td>0</td>\n",
       "      <td>...</td>\n",
       "      <td>2</td>\n",
       "      <td>3</td>\n",
       "      <td>2</td>\n",
       "      <td>3</td>\n",
       "      <td>0</td>\n",
       "      <td>0</td>\n",
       "      <td>2</td>\n",
       "      <td>3</td>\n",
       "      <td>45.0</td>\n",
       "      <td>3</td>\n",
       "    </tr>\n",
       "  </tbody>\n",
       "</table>\n",
       "<p>5 rows × 35 columns</p>\n",
       "</div>"
      ],
      "text/plain": [
       "   erythema  scaling  definite_borders  itching  koebner_phenomenon  \\\n",
       "0         2        2                 0        3                   0   \n",
       "1         3        3                 3        2                   1   \n",
       "2         2        1                 2        3                   1   \n",
       "3         2        2                 2        0                   0   \n",
       "4         2        3                 2        2                   2   \n",
       "\n",
       "   polygonal_papules  follicular_papules  oral_mucosal_involvement  \\\n",
       "0                  0                   0                         0   \n",
       "1                  0                   0                         0   \n",
       "2                  3                   0                         3   \n",
       "3                  0                   0                         0   \n",
       "4                  2                   0                         2   \n",
       "\n",
       "   knee_and_elbow_involvement  scalp_involvement  ...  \\\n",
       "0                           1                  0  ...   \n",
       "1                           1                  1  ...   \n",
       "2                           0                  0  ...   \n",
       "3                           3                  2  ...   \n",
       "4                           0                  0  ...   \n",
       "\n",
       "   disappearance_of_the_granular_layer  \\\n",
       "0                                    0   \n",
       "1                                    0   \n",
       "2                                    0   \n",
       "3                                    3   \n",
       "4                                    2   \n",
       "\n",
       "   vacuolisation_and_damage_of_basal_layer  spongiosis  \\\n",
       "0                                        0           3   \n",
       "1                                        0           0   \n",
       "2                                        2           3   \n",
       "3                                        0           0   \n",
       "4                                        3           2   \n",
       "\n",
       "   saw-tooth_appearance_of_retes  follicular_horn_plug  \\\n",
       "0                              0                     0   \n",
       "1                              0                     0   \n",
       "2                              2                     0   \n",
       "3                              0                     0   \n",
       "4                              3                     0   \n",
       "\n",
       "   perifollicular_parakeratosis  inflammatory_monoluclear_inflitrate  \\\n",
       "0                             0                                    1   \n",
       "1                             0                                    1   \n",
       "2                             0                                    2   \n",
       "3                             0                                    3   \n",
       "4                             0                                    2   \n",
       "\n",
       "   band-like_infiltrate   age  class  \n",
       "0                     0  55.0      2  \n",
       "1                     0   8.0      1  \n",
       "2                     3  26.0      3  \n",
       "3                     0  40.0      1  \n",
       "4                     3  45.0      3  \n",
       "\n",
       "[5 rows x 35 columns]"
      ]
     },
     "execution_count": 192,
     "metadata": {},
     "output_type": "execute_result"
    }
   ],
   "source": [
    "df.head()"
   ]
  },
  {
   "cell_type": "code",
   "execution_count": null,
   "id": "d5e17083",
   "metadata": {},
   "outputs": [],
   "source": []
  },
  {
   "cell_type": "code",
   "execution_count": 193,
   "id": "28e92b6a",
   "metadata": {},
   "outputs": [],
   "source": [
    "# hold the dataframe\n",
    "# df_temp = df.copy()"
   ]
  },
  {
   "cell_type": "code",
   "execution_count": 194,
   "id": "6dd421f2",
   "metadata": {},
   "outputs": [
    {
     "data": {
      "text/plain": [
       "Index(['erythema', 'scaling', 'definite_borders', 'itching',\n",
       "       'koebner_phenomenon', 'polygonal_papules', 'follicular_papules',\n",
       "       'oral_mucosal_involvement', 'knee_and_elbow_involvement',\n",
       "       'scalp_involvement', 'family_history', 'melanin_incontinence',\n",
       "       'eosinophils_in_the_infiltrate', 'pnl_infiltrate',\n",
       "       'fibrosis_of_the_papillary_dermis', 'exocytosis', 'acanthosis',\n",
       "       'hyperkeratosis', 'parakeratosis', 'clubbing_of_the_rete_ridges',\n",
       "       'elongation_of_the_rete_ridges',\n",
       "       'thinning_of_the_suprapapillary_epidermis', 'spongiform_pustule',\n",
       "       'munro_microabcess', 'focal_hypergranulosis',\n",
       "       'disappearance_of_the_granular_layer',\n",
       "       'vacuolisation_and_damage_of_basal_layer', 'spongiosis',\n",
       "       'saw-tooth_appearance_of_retes', 'follicular_horn_plug',\n",
       "       'perifollicular_parakeratosis', 'inflammatory_monoluclear_inflitrate',\n",
       "       'band-like_infiltrate', 'age', 'class'],\n",
       "      dtype='object')"
      ]
     },
     "execution_count": 194,
     "metadata": {},
     "output_type": "execute_result"
    }
   ],
   "source": [
    "df.columns"
   ]
  },
  {
   "cell_type": "code",
   "execution_count": 200,
   "id": "c44ef84e",
   "metadata": {},
   "outputs": [],
   "source": [
    "actual_class_names = ['psoriasis' ,'seboreic dermatitis',  'lichen planus', 'pityriasis rosea', 'cronic dermatitis'\n",
    "                        ,'pityriasis rubra pilaris']"
   ]
  },
  {
   "cell_type": "code",
   "execution_count": 204,
   "id": "558c7660",
   "metadata": {},
   "outputs": [],
   "source": [
    "index_to_cn = dict( enumerate(actual_class_names))"
   ]
  },
  {
   "cell_type": "code",
   "execution_count": 222,
   "id": "133bc9ff",
   "metadata": {},
   "outputs": [],
   "source": [
    "dict_cn = {1: 'psoriasis',\n",
    " 2: 'seboreic dermatitis',\n",
    " 3: 'lichen planus',\n",
    " 4: 'pityriasis rosea',\n",
    " 5: 'cronic dermatitis',\n",
    " 6: 'pityriasis rubra pilaris'}"
   ]
  },
  {
   "cell_type": "code",
   "execution_count": null,
   "id": "d141c140",
   "metadata": {},
   "outputs": [],
   "source": []
  },
  {
   "cell_type": "code",
   "execution_count": 223,
   "id": "ec52687c",
   "metadata": {},
   "outputs": [
    {
     "data": {
      "text/plain": [
       "1    111\n",
       "3     71\n",
       "2     60\n",
       "5     48\n",
       "4     48\n",
       "6     20\n",
       "Name: class, dtype: int64"
      ]
     },
     "execution_count": 223,
     "metadata": {},
     "output_type": "execute_result"
    }
   ],
   "source": [
    "df['class'].value_counts()"
   ]
  },
  {
   "cell_type": "code",
   "execution_count": 224,
   "id": "f19f3b5b",
   "metadata": {},
   "outputs": [],
   "source": [
    "df['classNames'] = df['class'].apply(lambda x: dict_cn[x])"
   ]
  },
  {
   "cell_type": "code",
   "execution_count": null,
   "id": "a6e121ab",
   "metadata": {},
   "outputs": [],
   "source": []
  },
  {
   "cell_type": "markdown",
   "id": "a28e8ca2",
   "metadata": {},
   "source": [
    "# EDA"
   ]
  },
  {
   "cell_type": "code",
   "execution_count": 225,
   "id": "075e5cd4",
   "metadata": {},
   "outputs": [
    {
     "name": "stdout",
     "output_type": "stream",
     "text": [
      "<class 'pandas.core.frame.DataFrame'>\n",
      "RangeIndex: 366 entries, 0 to 365\n",
      "Data columns (total 35 columns):\n",
      " #   Column                                    Non-Null Count  Dtype  \n",
      "---  ------                                    --------------  -----  \n",
      " 0   erythema                                  366 non-null    int64  \n",
      " 1   scaling                                   366 non-null    int64  \n",
      " 2   definite_borders                          366 non-null    int64  \n",
      " 3   itching                                   366 non-null    int64  \n",
      " 4   koebner_phenomenon                        366 non-null    int64  \n",
      " 5   polygonal_papules                         366 non-null    int64  \n",
      " 6   follicular_papules                        366 non-null    int64  \n",
      " 7   oral_mucosal_involvement                  366 non-null    int64  \n",
      " 8   knee_and_elbow_involvement                366 non-null    int64  \n",
      " 9   scalp_involvement                         366 non-null    int64  \n",
      " 10  family_history                            366 non-null    int64  \n",
      " 11  melanin_incontinence                      366 non-null    int64  \n",
      " 12  eosinophils_in_the_infiltrate             366 non-null    int64  \n",
      " 13  pnl_infiltrate                            366 non-null    int64  \n",
      " 14  fibrosis_of_the_papillary_dermis          366 non-null    int64  \n",
      " 15  exocytosis                                366 non-null    int64  \n",
      " 16  acanthosis                                366 non-null    int64  \n",
      " 17  hyperkeratosis                            366 non-null    int64  \n",
      " 18  parakeratosis                             366 non-null    int64  \n",
      " 19  clubbing_of_the_rete_ridges               366 non-null    int64  \n",
      " 20  elongation_of_the_rete_ridges             366 non-null    int64  \n",
      " 21  thinning_of_the_suprapapillary_epidermis  366 non-null    int64  \n",
      " 22  spongiform_pustule                        366 non-null    int64  \n",
      " 23  munro_microabcess                         366 non-null    int64  \n",
      " 24  focal_hypergranulosis                     366 non-null    int64  \n",
      " 25  disappearance_of_the_granular_layer       366 non-null    int64  \n",
      " 26  vacuolisation_and_damage_of_basal_layer   366 non-null    int64  \n",
      " 27  spongiosis                                366 non-null    int64  \n",
      " 28  saw-tooth_appearance_of_retes             366 non-null    int64  \n",
      " 29  follicular_horn_plug                      366 non-null    int64  \n",
      " 30  perifollicular_parakeratosis              366 non-null    int64  \n",
      " 31  inflammatory_monoluclear_inflitrate       366 non-null    int64  \n",
      " 32  band-like_infiltrate                      366 non-null    int64  \n",
      " 33  age                                       358 non-null    float64\n",
      " 34  class                                     366 non-null    int64  \n",
      "dtypes: float64(1), int64(34)\n",
      "memory usage: 100.2 KB\n"
     ]
    }
   ],
   "source": [
    "derm_df.info()"
   ]
  },
  {
   "cell_type": "code",
   "execution_count": null,
   "id": "0068347a",
   "metadata": {},
   "outputs": [],
   "source": []
  },
  {
   "cell_type": "code",
   "execution_count": 226,
   "id": "ae194e26",
   "metadata": {},
   "outputs": [
    {
     "data": {
      "text/html": [
       "<div>\n",
       "<style scoped>\n",
       "    .dataframe tbody tr th:only-of-type {\n",
       "        vertical-align: middle;\n",
       "    }\n",
       "\n",
       "    .dataframe tbody tr th {\n",
       "        vertical-align: top;\n",
       "    }\n",
       "\n",
       "    .dataframe thead th {\n",
       "        text-align: right;\n",
       "    }\n",
       "</style>\n",
       "<table border=\"1\" class=\"dataframe\">\n",
       "  <thead>\n",
       "    <tr style=\"text-align: right;\">\n",
       "      <th></th>\n",
       "      <th>erythema</th>\n",
       "      <th>scaling</th>\n",
       "      <th>definite_borders</th>\n",
       "      <th>itching</th>\n",
       "      <th>koebner_phenomenon</th>\n",
       "      <th>polygonal_papules</th>\n",
       "      <th>follicular_papules</th>\n",
       "      <th>oral_mucosal_involvement</th>\n",
       "      <th>knee_and_elbow_involvement</th>\n",
       "      <th>scalp_involvement</th>\n",
       "      <th>...</th>\n",
       "      <th>disappearance_of_the_granular_layer</th>\n",
       "      <th>vacuolisation_and_damage_of_basal_layer</th>\n",
       "      <th>spongiosis</th>\n",
       "      <th>saw-tooth_appearance_of_retes</th>\n",
       "      <th>follicular_horn_plug</th>\n",
       "      <th>perifollicular_parakeratosis</th>\n",
       "      <th>inflammatory_monoluclear_inflitrate</th>\n",
       "      <th>band-like_infiltrate</th>\n",
       "      <th>age</th>\n",
       "      <th>class</th>\n",
       "    </tr>\n",
       "  </thead>\n",
       "  <tbody>\n",
       "    <tr>\n",
       "      <th>count</th>\n",
       "      <td>358.000000</td>\n",
       "      <td>358.000000</td>\n",
       "      <td>358.000000</td>\n",
       "      <td>358.000000</td>\n",
       "      <td>358.000000</td>\n",
       "      <td>358.000000</td>\n",
       "      <td>358.000000</td>\n",
       "      <td>358.000000</td>\n",
       "      <td>358.000000</td>\n",
       "      <td>358.000000</td>\n",
       "      <td>...</td>\n",
       "      <td>358.000000</td>\n",
       "      <td>358.000000</td>\n",
       "      <td>358.000000</td>\n",
       "      <td>358.000000</td>\n",
       "      <td>358.000000</td>\n",
       "      <td>358.000000</td>\n",
       "      <td>358.000000</td>\n",
       "      <td>358.000000</td>\n",
       "      <td>358.000000</td>\n",
       "      <td>358.000000</td>\n",
       "    </tr>\n",
       "    <tr>\n",
       "      <th>mean</th>\n",
       "      <td>2.078212</td>\n",
       "      <td>1.807263</td>\n",
       "      <td>1.569832</td>\n",
       "      <td>1.354749</td>\n",
       "      <td>0.636872</td>\n",
       "      <td>0.449721</td>\n",
       "      <td>0.170391</td>\n",
       "      <td>0.379888</td>\n",
       "      <td>0.622905</td>\n",
       "      <td>0.530726</td>\n",
       "      <td>...</td>\n",
       "      <td>0.474860</td>\n",
       "      <td>0.460894</td>\n",
       "      <td>0.949721</td>\n",
       "      <td>0.458101</td>\n",
       "      <td>0.106145</td>\n",
       "      <td>0.117318</td>\n",
       "      <td>1.877095</td>\n",
       "      <td>0.558659</td>\n",
       "      <td>36.296089</td>\n",
       "      <td>2.782123</td>\n",
       "    </tr>\n",
       "    <tr>\n",
       "      <th>std</th>\n",
       "      <td>0.664865</td>\n",
       "      <td>0.701541</td>\n",
       "      <td>0.900909</td>\n",
       "      <td>1.135062</td>\n",
       "      <td>0.908709</td>\n",
       "      <td>0.956468</td>\n",
       "      <td>0.576394</td>\n",
       "      <td>0.837388</td>\n",
       "      <td>0.990278</td>\n",
       "      <td>0.912352</td>\n",
       "      <td>...</td>\n",
       "      <td>0.871705</td>\n",
       "      <td>0.959914</td>\n",
       "      <td>1.129060</td>\n",
       "      <td>0.959796</td>\n",
       "      <td>0.455180</td>\n",
       "      <td>0.493863</td>\n",
       "      <td>0.699324</td>\n",
       "      <td>1.107990</td>\n",
       "      <td>15.324557</td>\n",
       "      <td>1.593936</td>\n",
       "    </tr>\n",
       "    <tr>\n",
       "      <th>min</th>\n",
       "      <td>0.000000</td>\n",
       "      <td>0.000000</td>\n",
       "      <td>0.000000</td>\n",
       "      <td>0.000000</td>\n",
       "      <td>0.000000</td>\n",
       "      <td>0.000000</td>\n",
       "      <td>0.000000</td>\n",
       "      <td>0.000000</td>\n",
       "      <td>0.000000</td>\n",
       "      <td>0.000000</td>\n",
       "      <td>...</td>\n",
       "      <td>0.000000</td>\n",
       "      <td>0.000000</td>\n",
       "      <td>0.000000</td>\n",
       "      <td>0.000000</td>\n",
       "      <td>0.000000</td>\n",
       "      <td>0.000000</td>\n",
       "      <td>0.000000</td>\n",
       "      <td>0.000000</td>\n",
       "      <td>0.000000</td>\n",
       "      <td>1.000000</td>\n",
       "    </tr>\n",
       "    <tr>\n",
       "      <th>25%</th>\n",
       "      <td>2.000000</td>\n",
       "      <td>1.000000</td>\n",
       "      <td>1.000000</td>\n",
       "      <td>0.000000</td>\n",
       "      <td>0.000000</td>\n",
       "      <td>0.000000</td>\n",
       "      <td>0.000000</td>\n",
       "      <td>0.000000</td>\n",
       "      <td>0.000000</td>\n",
       "      <td>0.000000</td>\n",
       "      <td>...</td>\n",
       "      <td>0.000000</td>\n",
       "      <td>0.000000</td>\n",
       "      <td>0.000000</td>\n",
       "      <td>0.000000</td>\n",
       "      <td>0.000000</td>\n",
       "      <td>0.000000</td>\n",
       "      <td>1.000000</td>\n",
       "      <td>0.000000</td>\n",
       "      <td>25.000000</td>\n",
       "      <td>1.000000</td>\n",
       "    </tr>\n",
       "    <tr>\n",
       "      <th>50%</th>\n",
       "      <td>2.000000</td>\n",
       "      <td>2.000000</td>\n",
       "      <td>2.000000</td>\n",
       "      <td>1.000000</td>\n",
       "      <td>0.000000</td>\n",
       "      <td>0.000000</td>\n",
       "      <td>0.000000</td>\n",
       "      <td>0.000000</td>\n",
       "      <td>0.000000</td>\n",
       "      <td>0.000000</td>\n",
       "      <td>...</td>\n",
       "      <td>0.000000</td>\n",
       "      <td>0.000000</td>\n",
       "      <td>0.000000</td>\n",
       "      <td>0.000000</td>\n",
       "      <td>0.000000</td>\n",
       "      <td>0.000000</td>\n",
       "      <td>2.000000</td>\n",
       "      <td>0.000000</td>\n",
       "      <td>35.000000</td>\n",
       "      <td>3.000000</td>\n",
       "    </tr>\n",
       "    <tr>\n",
       "      <th>75%</th>\n",
       "      <td>2.750000</td>\n",
       "      <td>2.000000</td>\n",
       "      <td>2.000000</td>\n",
       "      <td>2.000000</td>\n",
       "      <td>1.000000</td>\n",
       "      <td>0.000000</td>\n",
       "      <td>0.000000</td>\n",
       "      <td>0.000000</td>\n",
       "      <td>1.000000</td>\n",
       "      <td>1.000000</td>\n",
       "      <td>...</td>\n",
       "      <td>1.000000</td>\n",
       "      <td>0.000000</td>\n",
       "      <td>2.000000</td>\n",
       "      <td>0.000000</td>\n",
       "      <td>0.000000</td>\n",
       "      <td>0.000000</td>\n",
       "      <td>2.000000</td>\n",
       "      <td>0.000000</td>\n",
       "      <td>49.750000</td>\n",
       "      <td>4.000000</td>\n",
       "    </tr>\n",
       "    <tr>\n",
       "      <th>max</th>\n",
       "      <td>3.000000</td>\n",
       "      <td>3.000000</td>\n",
       "      <td>3.000000</td>\n",
       "      <td>3.000000</td>\n",
       "      <td>3.000000</td>\n",
       "      <td>3.000000</td>\n",
       "      <td>3.000000</td>\n",
       "      <td>3.000000</td>\n",
       "      <td>3.000000</td>\n",
       "      <td>3.000000</td>\n",
       "      <td>...</td>\n",
       "      <td>3.000000</td>\n",
       "      <td>3.000000</td>\n",
       "      <td>3.000000</td>\n",
       "      <td>3.000000</td>\n",
       "      <td>3.000000</td>\n",
       "      <td>3.000000</td>\n",
       "      <td>3.000000</td>\n",
       "      <td>3.000000</td>\n",
       "      <td>75.000000</td>\n",
       "      <td>6.000000</td>\n",
       "    </tr>\n",
       "  </tbody>\n",
       "</table>\n",
       "<p>8 rows × 35 columns</p>\n",
       "</div>"
      ],
      "text/plain": [
       "         erythema     scaling  definite_borders     itching  \\\n",
       "count  358.000000  358.000000        358.000000  358.000000   \n",
       "mean     2.078212    1.807263          1.569832    1.354749   \n",
       "std      0.664865    0.701541          0.900909    1.135062   \n",
       "min      0.000000    0.000000          0.000000    0.000000   \n",
       "25%      2.000000    1.000000          1.000000    0.000000   \n",
       "50%      2.000000    2.000000          2.000000    1.000000   \n",
       "75%      2.750000    2.000000          2.000000    2.000000   \n",
       "max      3.000000    3.000000          3.000000    3.000000   \n",
       "\n",
       "       koebner_phenomenon  polygonal_papules  follicular_papules  \\\n",
       "count          358.000000         358.000000          358.000000   \n",
       "mean             0.636872           0.449721            0.170391   \n",
       "std              0.908709           0.956468            0.576394   \n",
       "min              0.000000           0.000000            0.000000   \n",
       "25%              0.000000           0.000000            0.000000   \n",
       "50%              0.000000           0.000000            0.000000   \n",
       "75%              1.000000           0.000000            0.000000   \n",
       "max              3.000000           3.000000            3.000000   \n",
       "\n",
       "       oral_mucosal_involvement  knee_and_elbow_involvement  \\\n",
       "count                358.000000                  358.000000   \n",
       "mean                   0.379888                    0.622905   \n",
       "std                    0.837388                    0.990278   \n",
       "min                    0.000000                    0.000000   \n",
       "25%                    0.000000                    0.000000   \n",
       "50%                    0.000000                    0.000000   \n",
       "75%                    0.000000                    1.000000   \n",
       "max                    3.000000                    3.000000   \n",
       "\n",
       "       scalp_involvement  ...  disappearance_of_the_granular_layer  \\\n",
       "count         358.000000  ...                           358.000000   \n",
       "mean            0.530726  ...                             0.474860   \n",
       "std             0.912352  ...                             0.871705   \n",
       "min             0.000000  ...                             0.000000   \n",
       "25%             0.000000  ...                             0.000000   \n",
       "50%             0.000000  ...                             0.000000   \n",
       "75%             1.000000  ...                             1.000000   \n",
       "max             3.000000  ...                             3.000000   \n",
       "\n",
       "       vacuolisation_and_damage_of_basal_layer  spongiosis  \\\n",
       "count                               358.000000  358.000000   \n",
       "mean                                  0.460894    0.949721   \n",
       "std                                   0.959914    1.129060   \n",
       "min                                   0.000000    0.000000   \n",
       "25%                                   0.000000    0.000000   \n",
       "50%                                   0.000000    0.000000   \n",
       "75%                                   0.000000    2.000000   \n",
       "max                                   3.000000    3.000000   \n",
       "\n",
       "       saw-tooth_appearance_of_retes  follicular_horn_plug  \\\n",
       "count                     358.000000            358.000000   \n",
       "mean                        0.458101              0.106145   \n",
       "std                         0.959796              0.455180   \n",
       "min                         0.000000              0.000000   \n",
       "25%                         0.000000              0.000000   \n",
       "50%                         0.000000              0.000000   \n",
       "75%                         0.000000              0.000000   \n",
       "max                         3.000000              3.000000   \n",
       "\n",
       "       perifollicular_parakeratosis  inflammatory_monoluclear_inflitrate  \\\n",
       "count                    358.000000                           358.000000   \n",
       "mean                       0.117318                             1.877095   \n",
       "std                        0.493863                             0.699324   \n",
       "min                        0.000000                             0.000000   \n",
       "25%                        0.000000                             1.000000   \n",
       "50%                        0.000000                             2.000000   \n",
       "75%                        0.000000                             2.000000   \n",
       "max                        3.000000                             3.000000   \n",
       "\n",
       "       band-like_infiltrate         age       class  \n",
       "count            358.000000  358.000000  358.000000  \n",
       "mean               0.558659   36.296089    2.782123  \n",
       "std                1.107990   15.324557    1.593936  \n",
       "min                0.000000    0.000000    1.000000  \n",
       "25%                0.000000   25.000000    1.000000  \n",
       "50%                0.000000   35.000000    3.000000  \n",
       "75%                0.000000   49.750000    4.000000  \n",
       "max                3.000000   75.000000    6.000000  \n",
       "\n",
       "[8 rows x 35 columns]"
      ]
     },
     "execution_count": 226,
     "metadata": {},
     "output_type": "execute_result"
    }
   ],
   "source": [
    "df.describe()"
   ]
  },
  {
   "cell_type": "code",
   "execution_count": null,
   "id": "371c5f4e",
   "metadata": {},
   "outputs": [],
   "source": []
  },
  {
   "cell_type": "code",
   "execution_count": null,
   "id": "cddd2d6c",
   "metadata": {},
   "outputs": [],
   "source": []
  },
  {
   "cell_type": "code",
   "execution_count": null,
   "id": "d985eebe",
   "metadata": {},
   "outputs": [],
   "source": []
  },
  {
   "cell_type": "code",
   "execution_count": null,
   "id": "074663c2",
   "metadata": {},
   "outputs": [],
   "source": []
  },
  {
   "cell_type": "markdown",
   "id": "c611ebf1",
   "metadata": {},
   "source": [
    "frequency distribution"
   ]
  },
  {
   "cell_type": "code",
   "execution_count": 227,
   "id": "2a9b1e47",
   "metadata": {},
   "outputs": [
    {
     "data": {
      "text/plain": [
       "1    111\n",
       "3     71\n",
       "2     60\n",
       "5     48\n",
       "4     48\n",
       "6     20\n",
       "Name: class, dtype: int64"
      ]
     },
     "execution_count": 227,
     "metadata": {},
     "output_type": "execute_result"
    }
   ],
   "source": [
    "df['class'].value_counts()"
   ]
  },
  {
   "cell_type": "code",
   "execution_count": 229,
   "id": "adcd5816",
   "metadata": {},
   "outputs": [
    {
     "data": {
      "image/png": "[encoded data removed]",
      "text/plain": [
       "<Figure size 720x576 with 1 Axes>"
      ]
     },
     "metadata": {},
     "output_type": "display_data"
    },
    {
     "data": {
      "text/plain": [
       "<Figure size 432x288 with 0 Axes>"
      ]
     },
     "metadata": {},
     "output_type": "display_data"
    }
   ],
   "source": [
    "plt.figure(figsize=(10,8))\n",
    "sns.set_style('darkgrid')\n",
    "plt.hist(x=df['classNames'], bins=6)\n",
    "plt.show()\n",
    "plt.tight_layout()"
   ]
  },
  {
   "cell_type": "markdown",
   "id": "ef1de899",
   "metadata": {},
   "source": [
    "The class value distribution in the dataset was analyzed and it was found that the most frequent class value was psoriasis (1), with 112 instances, followed by lichen planus (3) with 72 instances, seboreic dermatitis (2) with 61 instances, and pityriasis rubra pilaris (6) with the lowest number of instances."
   ]
  },
  {
   "cell_type": "code",
   "execution_count": null,
   "id": "4633daca",
   "metadata": {},
   "outputs": [],
   "source": []
  },
  {
   "cell_type": "markdown",
   "id": "eebb8b84",
   "metadata": {},
   "source": [
    "<!-- The distribution of the class values in the dataset was examined. It appears that the most common class value is 1, with 112 instances, followed by class 3 with 72 instances, class 2 with 61 instances, and so on.\n",
    "\n",
    "The balance of the different class values in the dataset can be understood through this information. For example, if there is a significant imbalance in the dataset, with one or a few class values greatly outnumbering the others, it could potentially affect the performance of our machine learning model.\n",
    "\n",
    " -->"
   ]
  },
  {
   "cell_type": "markdown",
   "id": "1d166bcf",
   "metadata": {},
   "source": [
    "the distribution of class values among the dataset rows"
   ]
  },
  {
   "cell_type": "markdown",
   "id": "c3dff581",
   "metadata": {},
   "source": [
    "correlation matrix"
   ]
  },
  {
   "cell_type": "code",
   "execution_count": 151,
   "id": "c0899783",
   "metadata": {},
   "outputs": [
    {
     "data": {
      "text/plain": [
       "<AxesSubplot:>"
      ]
     },
     "execution_count": 151,
     "metadata": {},
     "output_type": "execute_result"
    },
    {
     "data": {
      "image/png": "[encoded data removed]",
      "text/plain": [
       "<Figure size 720x576 with 2 Axes>"
      ]
     },
     "metadata": {},
     "output_type": "display_data"
    }
   ],
   "source": [
    "corr_matrix = df.corr()\n",
    "\n",
    "# Fill diagonal and upper half with NaNs\n",
    "mask = np.zeros_like(corr_matrix, dtype=bool)\n",
    "mask[np.triu_indices_from(mask)] = True\n",
    "corr_matrix[mask] = np.nan\n",
    "\n",
    "f, ax = plt.subplots(figsize=(10, 8))\n",
    "sns.heatmap(corr_matrix,\n",
    "    vmin=-1.0, vmax=1.0,\n",
    "    square=True, ax=ax, )\n"
   ]
  },
  {
   "cell_type": "markdown",
   "id": "9a7d4c68",
   "metadata": {},
   "source": [
    "A strong positive or negative relationship is observed between some attributes, while a weaker or no relationship is observed between other attributes. For example, scaling and erythema have a strong positive relationship (0.435467), while fibrosis_of_the_papillary_dermis and scalp_involvement have a weaker or no relationship (0.073488).\n",
    "\n",
    "Also, the relationship between some attributes and the class is strong, while others have a weaker or no relationship. A strong negative relationship is observed between the attribute erythema and the class (-0.335537), while the attribute fibrosis_of_the_papillary_dermis has a weaker or no relationship (-0.084227).\n",
    "\n",
    "The relationship between some attributes and the class differs from their relationship with each other. For instance, scaling and erythema have a strong positive relationship with one another (0.435467), but a negative relationship with the class (-0.335537 and -0.468688, respectively).\n",
    "\n",
    "And lastly, some attributes are correlated with multiple other attributes, while others are only correlated with a few. The attribute erythema is correlated with several other attributes (such as scaling, definite_borders, and itching), while the attribute disappearance_of_the_granular_layer is only correlated with a few other attributes (such as fibrosis_of_the_papillary_dermis and vacuolisation_and_damage_of_basal_layer)."
   ]
  },
  {
   "cell_type": "code",
   "execution_count": null,
   "id": "ed86fe8b",
   "metadata": {},
   "outputs": [],
   "source": []
  },
  {
   "cell_type": "markdown",
   "id": "63269e04",
   "metadata": {},
   "source": [
    "Scatter plots python code for the age of the patient and erythema"
   ]
  },
  {
   "cell_type": "code",
   "execution_count": 152,
   "id": "da8a5ff4",
   "metadata": {},
   "outputs": [
    {
     "data": {
      "image/png": "[encoded data removed]",
      "text/plain": [
       "<Figure size 576x432 with 1 Axes>"
      ]
     },
     "metadata": {},
     "output_type": "display_data"
    }
   ],
   "source": [
    "# Extract the age and erythema values into separate arrays\n",
    "ages = df['age'].values\n",
    "erythema = df['erythema'].values\n",
    "\n",
    "# Create the scatter plot\n",
    "plt.figure(figsize=(8,6))\n",
    "plt.scatter(ages, erythema)\n",
    "\n",
    "# Add axis labels and a title\n",
    "plt.xlabel('Age (years)')\n",
    "plt.ylabel('Erythema severity (0-3)')\n",
    "plt.title('Age vs. Erythema severity')\n",
    "\n",
    "# Show the plot\n",
    "plt.show()\n"
   ]
  },
  {
   "cell_type": "markdown",
   "id": "b846c3cf",
   "metadata": {},
   "source": [
    "Based on this scatter plot, it appears that there is a weak negative relationship between the age of the patient and the severity of erythema. This means that, on average, older patients tend to have a lower severity of erythema, while younger patients tend to have a higher severity. However, there is a lot of variation in the data, with many patients of all ages having erythema of varying severity. There are also some points in the scatter plot that seem to be outliers, with very high or very low severity of erythema for their age."
   ]
  },
  {
   "cell_type": "code",
   "execution_count": 153,
   "id": "c491aa60",
   "metadata": {},
   "outputs": [
    {
     "data": {
      "text/html": [
       "<div>\n",
       "<style scoped>\n",
       "    .dataframe tbody tr th:only-of-type {\n",
       "        vertical-align: middle;\n",
       "    }\n",
       "\n",
       "    .dataframe tbody tr th {\n",
       "        vertical-align: top;\n",
       "    }\n",
       "\n",
       "    .dataframe thead th {\n",
       "        text-align: right;\n",
       "    }\n",
       "</style>\n",
       "<table border=\"1\" class=\"dataframe\">\n",
       "  <thead>\n",
       "    <tr style=\"text-align: right;\">\n",
       "      <th></th>\n",
       "      <th>age</th>\n",
       "      <th>erythema</th>\n",
       "    </tr>\n",
       "  </thead>\n",
       "  <tbody>\n",
       "    <tr>\n",
       "      <th>0</th>\n",
       "      <td>55.0</td>\n",
       "      <td>2</td>\n",
       "    </tr>\n",
       "    <tr>\n",
       "      <th>1</th>\n",
       "      <td>8.0</td>\n",
       "      <td>3</td>\n",
       "    </tr>\n",
       "    <tr>\n",
       "      <th>2</th>\n",
       "      <td>26.0</td>\n",
       "      <td>2</td>\n",
       "    </tr>\n",
       "    <tr>\n",
       "      <th>3</th>\n",
       "      <td>40.0</td>\n",
       "      <td>2</td>\n",
       "    </tr>\n",
       "    <tr>\n",
       "      <th>4</th>\n",
       "      <td>45.0</td>\n",
       "      <td>2</td>\n",
       "    </tr>\n",
       "    <tr>\n",
       "      <th>...</th>\n",
       "      <td>...</td>\n",
       "      <td>...</td>\n",
       "    </tr>\n",
       "    <tr>\n",
       "      <th>361</th>\n",
       "      <td>25.0</td>\n",
       "      <td>2</td>\n",
       "    </tr>\n",
       "    <tr>\n",
       "      <th>362</th>\n",
       "      <td>36.0</td>\n",
       "      <td>3</td>\n",
       "    </tr>\n",
       "    <tr>\n",
       "      <th>363</th>\n",
       "      <td>28.0</td>\n",
       "      <td>3</td>\n",
       "    </tr>\n",
       "    <tr>\n",
       "      <th>364</th>\n",
       "      <td>50.0</td>\n",
       "      <td>2</td>\n",
       "    </tr>\n",
       "    <tr>\n",
       "      <th>365</th>\n",
       "      <td>35.0</td>\n",
       "      <td>3</td>\n",
       "    </tr>\n",
       "  </tbody>\n",
       "</table>\n",
       "<p>358 rows × 2 columns</p>\n",
       "</div>"
      ],
      "text/plain": [
       "      age  erythema\n",
       "0    55.0         2\n",
       "1     8.0         3\n",
       "2    26.0         2\n",
       "3    40.0         2\n",
       "4    45.0         2\n",
       "..    ...       ...\n",
       "361  25.0         2\n",
       "362  36.0         3\n",
       "363  28.0         3\n",
       "364  50.0         2\n",
       "365  35.0         3\n",
       "\n",
       "[358 rows x 2 columns]"
      ]
     },
     "execution_count": 153,
     "metadata": {},
     "output_type": "execute_result"
    }
   ],
   "source": [
    "df[['age','erythema']]"
   ]
  },
  {
   "cell_type": "code",
   "execution_count": null,
   "id": "0a79641e",
   "metadata": {},
   "outputs": [],
   "source": []
  },
  {
   "cell_type": "markdown",
   "id": "77035864",
   "metadata": {},
   "source": [
    "a box plot could be used to compare the distribution of ages for patients with different diagnoses."
   ]
  },
  {
   "cell_type": "code",
   "execution_count": 154,
   "id": "00d6b837",
   "metadata": {},
   "outputs": [
    {
     "data": {
      "image/png": "[encoded data removed]",
      "text/plain": [
       "<Figure size 576x432 with 1 Axes>"
      ]
     },
     "metadata": {},
     "output_type": "display_data"
    }
   ],
   "source": [
    "plt.figure(figsize=(8,6))\n",
    "sns.boxplot(x='class', y='age', data=df)\n",
    "\n",
    "# Add axis labels and a title\n",
    "plt.xlabel('Diagnosis')\n",
    "plt.ylabel('Age (years)')\n",
    "plt.title('Age distribution by diagnosis')\n",
    "\n",
    "# Show the plot\n",
    "plt.show()"
   ]
  },
  {
   "cell_type": "markdown",
   "id": "6f92e582",
   "metadata": {},
   "source": [
    "Based on this box plot, it appears that the distribution of ages varies significantly between the different diagnoses. Some diagnoses, such as class 1 and class 3, seem to have a wider range of ages, with many patients falling outside the interquartile range (IQR). In contrast, other diagnoses, such as class 2, 4, 5, and 6, seem to have a more narrow range of ages with fewer outliers, and class 6 also tends to have the lowest range among the rest.\n"
   ]
  },
  {
   "cell_type": "code",
   "execution_count": null,
   "id": "e1ee860a",
   "metadata": {},
   "outputs": [],
   "source": []
  },
  {
   "cell_type": "code",
   "execution_count": null,
   "id": "6f177778",
   "metadata": {},
   "outputs": [],
   "source": []
  },
  {
   "cell_type": "code",
   "execution_count": 230,
   "id": "f094c467",
   "metadata": {},
   "outputs": [],
   "source": [
    "# X = df.drop('class', axis=1)\n"
   ]
  },
  {
   "cell_type": "code",
   "execution_count": 231,
   "id": "afc7fbb4",
   "metadata": {},
   "outputs": [],
   "source": [
    "from sklearn.preprocessing import LabelEncoder, StandardScaler\n",
    "# "
   ]
  },
  {
   "cell_type": "code",
   "execution_count": null,
   "id": "1c0a3407",
   "metadata": {},
   "outputs": [],
   "source": []
  },
  {
   "cell_type": "markdown",
   "id": "b573a59d",
   "metadata": {},
   "source": [
    "The XGBoost model requires class labels to start at 0. If the class labels in the dataset do not meet this requirement, they should be converted to start from 0. This is a simple preprocessing step that ensures the data is in the correct format for use with the XGBoost model. On the other hand, logistic regression, decision trees, and random forests do not require class values to start from 0. \n",
    "\n",
    "However, it is generally a good practice to encode class labels as integers starting from 0 in machine learning models, as this can often make the modeling process easier and more efficient. This is because many machine learning libraries and algorithms expect class labels to be represented as integers instead of strings, and using integers can save memory and improve performance.\n",
    "\n",
    "Additionally, encoding class labels as integers starting from 0 allows them to be treated as categorical variables, which can be beneficial in some cases."
   ]
  },
  {
   "cell_type": "code",
   "execution_count": 232,
   "id": "f6ebd25c",
   "metadata": {},
   "outputs": [
    {
     "data": {
      "text/plain": [
       "0    111\n",
       "2     71\n",
       "1     60\n",
       "4     48\n",
       "3     48\n",
       "5     20\n",
       "Name: mlClass, dtype: int64"
      ]
     },
     "execution_count": 232,
     "metadata": {},
     "output_type": "execute_result"
    }
   ],
   "source": [
    "\n",
    "le = LabelEncoder()\n",
    "df['mlClass'] = le.fit_transform(df['class'])\n",
    "df['mlClass'].value_counts()"
   ]
  },
  {
   "cell_type": "code",
   "execution_count": 233,
   "id": "70871f1e",
   "metadata": {},
   "outputs": [],
   "source": [
    "# y = df['mlClass']"
   ]
  },
  {
   "cell_type": "code",
   "execution_count": null,
   "id": "21d9ffd1",
   "metadata": {},
   "outputs": [],
   "source": []
  },
  {
   "cell_type": "code",
   "execution_count": null,
   "id": "5343b872",
   "metadata": {},
   "outputs": [],
   "source": []
  },
  {
   "cell_type": "code",
   "execution_count": 234,
   "id": "0590314b",
   "metadata": {},
   "outputs": [],
   "source": [
    "from sklearn.decomposition import PCA\n",
    "from sklearn.pipeline import Pipeline\n",
    "\n",
    "# Create a PCA object variance percentage of 0.95\n",
    "# The percentage of variance to be retained when fitting the model can also be specified.\n",
    "# This will help to keep enough components to retain 95% of the variance in the data.\n",
    "pca = PCA(0.95)\n",
    "\n",
    "# standard scale and use pca\n",
    "pipe = Pipeline([('scaler', StandardScaler()), ('pca', pca)])\n",
    "\n",
    "# Fit the PCA to the data\n",
    "pipe.fit(X)\n",
    "\n",
    "# Transform the data using the PCA object\n",
    "X_pca = pipe.transform(X)\n"
   ]
  },
  {
   "cell_type": "code",
   "execution_count": null,
   "id": "3d90230c",
   "metadata": {},
   "outputs": [],
   "source": []
  },
  {
   "cell_type": "markdown",
   "id": "ecc1d338",
   "metadata": {},
   "source": [
    "The explained variance ratio is a measure of how much of the total variance in the data is captured by each of the new features created by PCA, and higher values indicate that the corresponding feature captures more of the total variance (Raychaudhuri, Stuart, and Altman, 1999). The explained variance ratio is observed to decrease as the principal components progress (Kruge, 2000). This suggests that the first few principal components capture a larger portion of the variance in the data compared to the later components. It may be interpreted that the first few principal components capture the most important features in the data, while the later components capture less important or redundant features.\n",
    "\n"
   ]
  },
  {
   "cell_type": "code",
   "execution_count": 235,
   "id": "06f1ef2e",
   "metadata": {},
   "outputs": [
    {
     "data": {
      "image/png": "[encoded data removed]",
      "text/plain": [
       "<Figure size 432x288 with 1 Axes>"
      ]
     },
     "metadata": {},
     "output_type": "display_data"
    }
   ],
   "source": [
    "# Get the explained variance by each principal component\n",
    "explained_variance = pca.explained_variance_ratio_\n",
    "\n",
    "# Plot the explained variance by each principal component\n",
    "plt.plot(explained_variance)\n",
    "plt.xlabel('Principal Component')\n",
    "plt.ylabel('Explained Variance')\n",
    "plt.show()\n"
   ]
  },
  {
   "cell_type": "code",
   "execution_count": 236,
   "id": "8072853f",
   "metadata": {},
   "outputs": [
    {
     "name": "stdout",
     "output_type": "stream",
     "text": [
      "[0.27359219 0.16169949 0.09105342 0.0654689  0.03877114 0.03571226\n",
      " 0.03062938 0.0273699  0.02569327 0.02527266 0.02340253 0.02110236\n",
      " 0.02015157 0.01973034 0.01712066 0.01659628 0.01442222 0.01244022\n",
      " 0.01100854 0.00975929 0.00862121 0.00805495]\n"
     ]
    }
   ],
   "source": [
    "print(pca.explained_variance_ratio_)\n"
   ]
  },
  {
   "cell_type": "markdown",
   "id": "3ba4f8a7",
   "metadata": {},
   "source": [
    "It appears that the explained variance ratio decreases as we move from the first principal component to the last. This indicates that the first few principal components explain a larger amount of the variance in the data compared to the later components. One potential explanation for this is that the first few principal components capture the most significant features in the data, while the later components capture less important or redundant features."
   ]
  },
  {
   "cell_type": "code",
   "execution_count": 239,
   "id": "ad3e109e",
   "metadata": {},
   "outputs": [],
   "source": [
    "y = df['class']"
   ]
  },
  {
   "cell_type": "code",
   "execution_count": 240,
   "id": "2ffbb905",
   "metadata": {},
   "outputs": [
    {
     "data": {
      "image/png": "[encoded data removed]",
      "text/plain": [
       "<Figure size 432x288 with 1 Axes>"
      ]
     },
     "metadata": {},
     "output_type": "display_data"
    }
   ],
   "source": [
    "plot = plt.scatter(X_pca[:,0], X_pca[:,1], c=y)\n",
    "plt.legend(handles=plot.legend_elements()[0], labels=list(y))\n",
    "plt.show()"
   ]
  },
  {
   "cell_type": "markdown",
   "id": "0881b3eb",
   "metadata": {},
   "source": [
    "The scatter plot shows the relationships between the variables being plotted. There are three groups of points that are densely clustered in the left, right, and bottom areas, indicating a strong relationship between these variables. Additionally, there are distinct groups of points that are scattered closer to the grouped points and mainly within one class, suggesting the presence of distinct subgroups within the data."
   ]
  },
  {
   "cell_type": "code",
   "execution_count": null,
   "id": "0701ece8",
   "metadata": {},
   "outputs": [],
   "source": []
  },
  {
   "cell_type": "markdown",
   "id": "afcf2fd7",
   "metadata": {},
   "source": [
    "# ML"
   ]
  },
  {
   "cell_type": "markdown",
   "id": "b04f655e",
   "metadata": {},
   "source": [
    "data for the ml"
   ]
  },
  {
   "cell_type": "code",
   "execution_count": 241,
   "id": "ec37ca0d",
   "metadata": {},
   "outputs": [],
   "source": [
    "y = df['mlClass']"
   ]
  },
  {
   "cell_type": "code",
   "execution_count": 243,
   "id": "45841135",
   "metadata": {},
   "outputs": [],
   "source": [
    "from sklearn.metrics import accuracy_score\n"
   ]
  },
  {
   "cell_type": "code",
   "execution_count": 276,
   "id": "6b8bde97",
   "metadata": {},
   "outputs": [],
   "source": [
    "from sklearn.model_selection import train_test_split\n",
    "# Split the data into training and testing sets\n",
    "X_train, X_test, y_train, y_test = train_test_split(X_pca, y, test_size=0.2, random_state=42)"
   ]
  },
  {
   "cell_type": "code",
   "execution_count": null,
   "id": "b26eb4c8",
   "metadata": {},
   "outputs": [],
   "source": []
  },
  {
   "cell_type": "code",
   "execution_count": 322,
   "id": "ce6f4ca4",
   "metadata": {},
   "outputs": [],
   "source": [
    "from sklearn.metrics import confusion_matrix, ConfusionMatrixDisplay\n",
    "\n",
    "def confMat(yt, yp, clf):\n",
    "    confusion_mat = confusion_matrix(yt, yp)\n",
    "    print(confusion_mat)\n",
    "    \n",
    "    cm_display = ConfusionMatrixDisplay(confusion_matrix = confusion_mat,\n",
    "                                                display_labels = df['classNames'].unique())\n",
    "    fig, ax = plt.subplots(figsize=(10,10))\n",
    "    cm_display.plot(ax=ax)\n",
    "    plt.show()\n",
    "    plt.tight_layout()"
   ]
  },
  {
   "cell_type": "code",
   "execution_count": null,
   "id": "219f2f37",
   "metadata": {},
   "outputs": [],
   "source": []
  },
  {
   "cell_type": "code",
   "execution_count": null,
   "id": "ca082730",
   "metadata": {},
   "outputs": [],
   "source": []
  },
  {
   "cell_type": "code",
   "execution_count": null,
   "id": "a7a3230b",
   "metadata": {},
   "outputs": [],
   "source": []
  },
  {
   "cell_type": "code",
   "execution_count": null,
   "id": "a78ceee9",
   "metadata": {},
   "outputs": [],
   "source": []
  },
  {
   "cell_type": "code",
   "execution_count": null,
   "id": "890e5ce5",
   "metadata": {},
   "outputs": [],
   "source": [
    "import matplotlib.pyplot as plt\n",
    "\n",
    "# Set the labels for the x-axis\n",
    "model_names = ['Logistic Regression', 'Decision Tree', 'Random Forest']\n",
    "\n",
    "# Set the values for each bar in the plot\n",
    "accuracy = [0.958, 0.888, 0.958]\n",
    "precision = [0.97, 0.89, 0.96]\n",
    "recall = [0.96, 0.89, 0.96]\n",
    "f1 = [0.96, 0.89, 0.96]\n",
    "\n",
    "# Set the position of the x-ticks\n",
    "x_pos = [i for i, _ in enumerate(model_names)]\n",
    "\n",
    "# Create the plot\n",
    "fig, ax = plt.subplots(figsize=(10,8))\n",
    "\n",
    "# Create the bars\n",
    "ax.bar(x_pos, accuracy, width=0.2, label='Accuracy')\n",
    "ax.bar([p + 0.2 for p in x_pos], precision, width=0.2, label='Precision')\n",
    "ax.bar([p + 0.4 for p in x_pos], recall, width=0.2, label='Recall')\n",
    "ax.bar([p + 0.6 for p in x_pos], f1, width=0.2, label='F1 Score')\n",
    "\n",
    "# Set the x-axis label\n",
    "ax.set_xlabel('Model')\n",
    "\n",
    "# Set the y-axis label\n",
    "ax.set_ylabel('Score')\n",
    "\n",
    "# Set the x-ticks\n",
    "ax.set_xticks(x_pos)\n",
    "\n",
    "# Set the x-tick labels\n",
    "ax.set_xticklabels(model_names)\n",
    "\n",
    "# Add a legend\n",
    "ax.legend()\n",
    "\n",
    "# Show the plot\n",
    "plt.show()\n"
   ]
  },
  {
   "cell_type": "code",
   "execution_count": 373,
   "id": "fae17662",
   "metadata": {},
   "outputs": [],
   "source": [
    "def plotAcc(clf_name, acc, train_acc, test_acc, r2_score):\n",
    "\n",
    "    # Set the labels for the x-axis\n",
    "    model_names = [clf_name]\n",
    "\n",
    "    # Set the values for each bar in the plot\n",
    "    accuracy = acc\n",
    "    training_accuracy = train_acc\n",
    "    testingg_accuracy = test_acc\n",
    "\n",
    "    # Set the position of the x-ticks\n",
    "    x_pos = [i for i, _ in enumerate(model_names)]\n",
    "\n",
    "    # Create the plot\n",
    "    fig, ax = plt.subplots()\n",
    "\n",
    "    # Create the bars\n",
    "    ax.bar(x_pos, accuracy, width=0.2, label='Accuracy')\n",
    "    ax.bar([p + 0.2 for p in x_pos], training_accuracy, width=0.2, label='Train Accuracy')\n",
    "    ax.bar([p + 0.4 for p in x_pos], testingg_accuracy, width=0.2, label='Test Accuracy')\n",
    "    ax.bar([p + 0.6 for p in x_pos], r2_score, width=0.2, label='R2 Score')\n",
    "\n",
    "    # set x name\n",
    "    ax.set_xlabel('Accuracies')\n",
    "    \n",
    "    # plot title \n",
    "    plt.title(clf_name)\n",
    "    \n",
    "    # Set the y-axis label\n",
    "    ax.set_ylabel('Score')\n",
    "\n",
    "    # Set the x-ticks\n",
    "    ax.set_xticks(x_pos)\n",
    "\n",
    "    # Add a legend\n",
    "    ax.legend(bbox_to_anchor=(1.1, 1.05))\n",
    "\n",
    "    # Show the plot\n",
    "    plt.show()\n"
   ]
  },
  {
   "cell_type": "code",
   "execution_count": null,
   "id": "b40bc538",
   "metadata": {},
   "outputs": [],
   "source": []
  },
  {
   "cell_type": "code",
   "execution_count": null,
   "id": "a9d500b6",
   "metadata": {},
   "outputs": [],
   "source": []
  },
  {
   "cell_type": "markdown",
   "id": "b26c4195",
   "metadata": {},
   "source": [
    "R2\n",
    "\n",
    "Remember R2, also known as R-squared?\n",
    "\n",
    "It measures the relationship between the x axis and the y axis, and the value ranges from 0 to 1, where 0 means no relationship, and 1 means totally related.\n",
    "\n",
    "The sklearn module has a method called r2_score() that will help us find this relationship.\n",
    "\n",
    "In this case we would like to measure the relationship between the minutes a customer stays in the shop and how much money they spend."
   ]
  },
  {
   "cell_type": "code",
   "execution_count": null,
   "id": "c7a03830",
   "metadata": {},
   "outputs": [],
   "source": []
  },
  {
   "cell_type": "markdown",
   "id": "5c5d2131",
   "metadata": {},
   "source": [
    "Logistic Regression"
   ]
  },
  {
   "cell_type": "code",
   "execution_count": null,
   "id": "84d38c5b",
   "metadata": {},
   "outputs": [],
   "source": []
  },
  {
   "cell_type": "code",
   "execution_count": null,
   "id": "502fceb5",
   "metadata": {},
   "outputs": [],
   "source": []
  },
  {
   "cell_type": "code",
   "execution_count": 329,
   "id": "c4952f65",
   "metadata": {},
   "outputs": [
    {
     "name": "stdout",
     "output_type": "stream",
     "text": [
      "Training accuracy: 1.00\n",
      "Test accuracy: 1.00\n",
      "Accuracy:  0.9583333333333334\n",
      "LR R2 score:  0.9471968709256845\n"
     ]
    }
   ],
   "source": [
    "from sklearn.linear_model import LogisticRegression\n",
    "\n",
    "# Train the model\n",
    "lr = LogisticRegression()\n",
    "lr.fit(X_train, y_train)\n",
    "\n",
    "# Make predictions on the test set\n",
    "lr_y_pred = lr.predict(X_test)\n",
    "\n",
    "# Get the training accuracy\n",
    "lr_train_accuracy = lr.score(X_train, y_train)\n",
    "\n",
    "# Get the test accuracy\n",
    "lr_test_accuracy = lr.score(X_train, y_train)\n",
    "\n",
    "print(f\"Training accuracy: {lr_train_accuracy:.2f}\")\n",
    "print(f\"Test accuracy: {lr_test_accuracy:.2f}\")\n",
    "\n",
    "# Calculate the accuracy of the model\n",
    "lr_accuracy_score = accuracy_score(y_test, lr_y_pred)\n",
    "print(\"Accuracy: \", lr_accuracy_score)\n",
    "\n",
    "\n",
    "# calculate the R2 score\n",
    "lr_r2 = r2_score(y_test, lr_y_pred)\n",
    "print(\"LR R2 score: \", lr_r2)\n"
   ]
  },
  {
   "cell_type": "markdown",
   "id": "41ed5e21",
   "metadata": {},
   "source": [
    "The result from logistic regression indicates that the model was able to achieve a high accuracy of 95.8% on the test data. The training accuracy of 100% suggests that the model may be overfitting to the training data, meaning that it is not generalizing well to new, unseen data. However, the high test accuracy indicates that the model is still performing well on the test data. The R2 score of 0.947 is also very high, indicating a strong relationship between the features and the target variable. Overall, this suggests that logistic regression is a good choice for this dataset. It is important to note, however, that this result was achieved after dimensionality reduction using PCA, which may have affected the model's performance."
   ]
  },
  {
   "cell_type": "code",
   "execution_count": 374,
   "id": "58a76d77",
   "metadata": {},
   "outputs": [
    {
     "data": {
      "image/png": "[encoded data removed]",
      "text/plain": [
       "<Figure size 432x288 with 1 Axes>"
      ]
     },
     "metadata": {},
     "output_type": "display_data"
    }
   ],
   "source": [
    "plotAcc('Logistic Regresion', acc=0.9583333333333334, \n",
    "        train_acc=1.0, test_acc=1.0, r2_score=0.9471968709256845)"
   ]
  },
  {
   "cell_type": "code",
   "execution_count": null,
   "id": "c9afa38e",
   "metadata": {},
   "outputs": [],
   "source": []
  },
  {
   "cell_type": "code",
   "execution_count": null,
   "id": "9a1c5f34",
   "metadata": {},
   "outputs": [],
   "source": []
  },
  {
   "cell_type": "markdown",
   "id": "13ab3404",
   "metadata": {},
   "source": [
    "confusion matrix"
   ]
  },
  {
   "cell_type": "code",
   "execution_count": 323,
   "id": "8c2e8bfb",
   "metadata": {},
   "outputs": [
    {
     "name": "stdout",
     "output_type": "stream",
     "text": [
      "[[22  0  0  0  0  0]\n",
      " [ 0 12  0  2  0  0]\n",
      " [ 0  0 13  1  0  0]\n",
      " [ 0  0  0  8  0  0]\n",
      " [ 0  0  0  0 12  0]\n",
      " [ 0  0  0  0  0  2]]\n"
     ]
    },
    {
     "data": {
      "image/png": "[encoded data removed]",
      "text/plain": [
       "<Figure size 720x720 with 2 Axes>"
      ]
     },
     "metadata": {},
     "output_type": "display_data"
    },
    {
     "data": {
      "text/plain": [
       "<Figure size 432x288 with 0 Axes>"
      ]
     },
     "metadata": {},
     "output_type": "display_data"
    }
   ],
   "source": [
    "confMat(y_test, lr_y_pred, lr)"
   ]
  },
  {
   "cell_type": "markdown",
   "id": "a52faddc",
   "metadata": {},
   "source": [
    "From the confusion matrix, we can see that the model was able to accurately predict all of the instances of seboreic dermatitis, psoriasis, lichen planus, chronic dermatitis, and pityriasis rosea. There were 2 instances of pityriasis rubra pilaris, and the model was able to correctly predict both of them. The model's overall accuracy was very high, at 95.8%. This suggests that the model was successful in identifying patterns in the data and correctly predicting the diagnosis for the majority of the test set instances."
   ]
  },
  {
   "cell_type": "code",
   "execution_count": null,
   "id": "60e63028",
   "metadata": {},
   "outputs": [],
   "source": []
  },
  {
   "cell_type": "markdown",
   "id": "51c41ffd",
   "metadata": {},
   "source": [
    "classification repport"
   ]
  },
  {
   "cell_type": "code",
   "execution_count": 334,
   "id": "387048d3",
   "metadata": {},
   "outputs": [
    {
     "name": "stdout",
     "output_type": "stream",
     "text": [
      "              precision    recall  f1-score   support\n",
      "\n",
      "           0       1.00      1.00      1.00        22\n",
      "           1       1.00      0.86      0.92        14\n",
      "           2       1.00      0.93      0.96        14\n",
      "           3       0.73      1.00      0.84         8\n",
      "           4       1.00      1.00      1.00        12\n",
      "           5       1.00      1.00      1.00         2\n",
      "\n",
      "    accuracy                           0.96        72\n",
      "   macro avg       0.95      0.96      0.95        72\n",
      "weighted avg       0.97      0.96      0.96        72\n",
      "\n"
     ]
    }
   ],
   "source": [
    "from sklearn.metrics import classification_report\n",
    "\n",
    "# y_true is a list of the true class labels\n",
    "# y_pred is a list of the predicted class labels\n",
    "report = classification_report(y_test, lr_y_pred)\n",
    "\n",
    "print(report)\n"
   ]
  },
  {
   "cell_type": "markdown",
   "id": "a60fef5d",
   "metadata": {},
   "source": [
    "The classification report shows that the model performed very well in general, with high precision, recall, and F1-score values for all classes. The overall accuracy of the model was 0.96, which means that the model was able to correctly classify 96% of the samples in the test set.\n",
    "\n",
    "The precision of the model for each class indicates the proportion of samples that were correctly classified as belonging to that class among all the samples that were predicted to belong to that class. The recall of the model for each class indicates the proportion of samples that were correctly classified as belonging to that class among all the samples that actually belong to that class. The f1-score measures the balance between precision and recall, with a higher value indicating a better balance. The support for each class indicates the number of samples in the test set that belong to that class."
   ]
  },
  {
   "cell_type": "code",
   "execution_count": null,
   "id": "fb0dfe59",
   "metadata": {},
   "outputs": [],
   "source": []
  },
  {
   "cell_type": "code",
   "execution_count": null,
   "id": "21783e3e",
   "metadata": {},
   "outputs": [],
   "source": []
  },
  {
   "cell_type": "markdown",
   "id": "92a2f4fc",
   "metadata": {},
   "source": [
    "Decision Trees"
   ]
  },
  {
   "cell_type": "code",
   "execution_count": null,
   "id": "fad5cfbe",
   "metadata": {},
   "outputs": [],
   "source": []
  },
  {
   "cell_type": "code",
   "execution_count": null,
   "id": "40355d53",
   "metadata": {},
   "outputs": [],
   "source": []
  },
  {
   "cell_type": "code",
   "execution_count": 330,
   "id": "146e1316",
   "metadata": {},
   "outputs": [
    {
     "name": "stdout",
     "output_type": "stream",
     "text": [
      "Training accuracy: 1.00\n",
      "Test accuracy: 1.00\n",
      "Accuracy:  0.8888888888888888\n",
      "DT R2 score:  0.8122555410691004\n"
     ]
    }
   ],
   "source": [
    "from sklearn.tree import DecisionTreeClassifier\n",
    "\n",
    "# Train the model\n",
    "dt = DecisionTreeClassifier()\n",
    "dt.fit(X_train, y_train)\n",
    "\n",
    "# Make predictions on the test set\n",
    "dt_y_pred = dt.predict(X_test)\n",
    "\n",
    "# Get the training accuracy\n",
    "dt_train_accuracy = dt.score(X_train, y_train)\n",
    "\n",
    "# Get the test accuracy\n",
    "dt_test_accuracy = dt.score(X_train, y_train)\n",
    "\n",
    "print(f\"Training accuracy: {dt_train_accuracy:.2f}\")\n",
    "print(f\"Test accuracy: {dt_test_accuracy:.2f}\")\n",
    "\n",
    "# Calculate the accuracy of the model\n",
    "dt_accuracy = accuracy_score(y_test, dt_y_pred)\n",
    "print(\"Accuracy: \", dt_accuracy)\n",
    "\n",
    "# calculate the R2 score\n",
    "dt_r2 = r2_score(y_test, dt_y_pred)\n",
    "print(\"DT R2 score: \", dt_r2)\n"
   ]
  },
  {
   "cell_type": "code",
   "execution_count": 375,
   "id": "6c8e6619",
   "metadata": {},
   "outputs": [
    {
     "data": {
      "image/png": "[encoded data removed]",
      "text/plain": [
       "<Figure size 432x288 with 1 Axes>"
      ]
     },
     "metadata": {},
     "output_type": "display_data"
    }
   ],
   "source": [
    "plotAcc('Decision Tree', acc=dt_accuracy, \n",
    "        train_acc=dt_train_accuracy, test_acc=dt_test_accuracy, r2_score=dt_r2)"
   ]
  },
  {
   "cell_type": "code",
   "execution_count": null,
   "id": "f3f98174",
   "metadata": {},
   "outputs": [],
   "source": []
  },
  {
   "cell_type": "markdown",
   "id": "6498cb36",
   "metadata": {},
   "source": [
    "The decision tree model seems to have performed well, with a training accuracy of 100% and a test accuracy of 88.9%. This indicates that the model was able to accurately classify most of the test data. The accuracy score of 88.9% is also fairly high, which further supports the idea that the model was able to classify the test data accurately. The R2 score of 0.81 is also relatively high, which suggests that the model was able to explain a large portion of the variance in the data. The decision tree model was successful in classifying the data, as indicated by the results obtained after using PCA to reduce the dimensions of the data."
   ]
  },
  {
   "cell_type": "code",
   "execution_count": null,
   "id": "8fcdc77f",
   "metadata": {},
   "outputs": [],
   "source": []
  },
  {
   "cell_type": "markdown",
   "id": "1227aa48",
   "metadata": {},
   "source": [
    "confusion matrix"
   ]
  },
  {
   "cell_type": "code",
   "execution_count": 332,
   "id": "4ad7b98f",
   "metadata": {},
   "outputs": [
    {
     "name": "stdout",
     "output_type": "stream",
     "text": [
      "[[20  0  2  0  0  0]\n",
      " [ 0 11  0  3  0  0]\n",
      " [ 0  0 14  0  0  0]\n",
      " [ 0  3  0  5  0  0]\n",
      " [ 0  0  0  0 12  0]\n",
      " [ 0  0  0  0  0  2]]\n"
     ]
    },
    {
     "data": {
      "image/png": "[encoded data removed]",
      "text/plain": [
       "<Figure size 720x720 with 2 Axes>"
      ]
     },
     "metadata": {},
     "output_type": "display_data"
    },
    {
     "data": {
      "text/plain": [
       "<Figure size 432x288 with 0 Axes>"
      ]
     },
     "metadata": {},
     "output_type": "display_data"
    }
   ],
   "source": [
    "confMat(y_test, dt_y_pred, dt)"
   ]
  },
  {
   "cell_type": "markdown",
   "id": "afa8bf9d",
   "metadata": {},
   "source": [
    "Based on this confusion matrix, it looks like the model is generally doing a good job at predicting the correct class labels, with most of the values on the diagonal of the matrix being high and the off-diagonal values being low. However, there are a few areas of concern. For example, the model seems to be struggling a bit with accurately predicting instances of \"cronic dermatitis\", as there are 3 instances that were actually \"cronic dermatitis\" but were predicted to be \"psoriasis\" and 5 instances that were actually \"cronic dermatitis\" but were predicted to be \"lichen planus\". There are also 2 instances of \"seboreic dermatitis\" that were predicted to be \"lichen planus\"."
   ]
  },
  {
   "cell_type": "code",
   "execution_count": null,
   "id": "4ab3259e",
   "metadata": {},
   "outputs": [],
   "source": []
  },
  {
   "cell_type": "markdown",
   "id": "dcb5cc74",
   "metadata": {},
   "source": [
    "classification repport"
   ]
  },
  {
   "cell_type": "code",
   "execution_count": 333,
   "id": "f0f0ac94",
   "metadata": {},
   "outputs": [
    {
     "name": "stdout",
     "output_type": "stream",
     "text": [
      "              precision    recall  f1-score   support\n",
      "\n",
      "           0       1.00      0.91      0.95        22\n",
      "           1       0.79      0.79      0.79        14\n",
      "           2       0.88      1.00      0.93        14\n",
      "           3       0.62      0.62      0.62         8\n",
      "           4       1.00      1.00      1.00        12\n",
      "           5       1.00      1.00      1.00         2\n",
      "\n",
      "    accuracy                           0.89        72\n",
      "   macro avg       0.88      0.89      0.88        72\n",
      "weighted avg       0.89      0.89      0.89        72\n",
      "\n"
     ]
    }
   ],
   "source": [
    "from sklearn.metrics import classification_report\n",
    "\n",
    "# y_true is a list of the true class labels\n",
    "# y_pred is a list of the predicted class labels\n",
    "report = classification_report(y_test, dt_y_pred)\n",
    "\n",
    "print(report)\n"
   ]
  },
  {
   "cell_type": "markdown",
   "id": "3f3d585e",
   "metadata": {},
   "source": [
    "This classification report shows the performance of the decision tree model on the test data. The precision, recall, and f1-score are all above 0.79 for all classes, which is generally considered to be good. The overall accuracy of the model is also quite high, at 0.89.\n",
    "\n",
    "This suggests that the model is performing well at correctly identifying the different types of dermatological conditions in the test data. It is worth noting that the precision for class 3 (cronic dermatitis) is lower than the other classes at 0.62, which means that there are a higher number of false positive predictions for this class compared to the other classes."
   ]
  },
  {
   "cell_type": "code",
   "execution_count": null,
   "id": "c8b8a37e",
   "metadata": {},
   "outputs": [],
   "source": []
  },
  {
   "cell_type": "code",
   "execution_count": null,
   "id": "0c137650",
   "metadata": {},
   "outputs": [],
   "source": []
  },
  {
   "cell_type": "markdown",
   "id": "12b996c8",
   "metadata": {},
   "source": [
    "Random forest"
   ]
  },
  {
   "cell_type": "code",
   "execution_count": null,
   "id": "8eb46a95",
   "metadata": {},
   "outputs": [],
   "source": [
    "from sklearn.model_selection import train_test_split\n",
    "from sklearn.metrics import classification_report\n",
    "from sklearn.ensemble import RandomForestClassifier\n",
    "\n",
    "\n",
    "\n",
    "# Split the data into training and testing sets\n",
    "X_train, X_test, y_train, y_test = train_test_split(X_pca, y, test_size=0.2, random_state=42)\n",
    "\n",
    "# Create a random forest classifier with 100 decision trees\n",
    "rf = RandomForestClassifier(n_estimators=100)\n",
    "\n",
    "# Train the rf on the training data\n",
    "rf.fit(train_x, train_y)\n",
    "\n",
    "# Make predictions on the test set\n",
    "rf_y_pred = rf.predict(X_test)\n",
    "\n",
    "# Get the training accuracy\n",
    "rf_train_accuracy = rf.score(X_train, y_train)\n",
    "\n",
    "# Get the test accuracy\n",
    "rf_test_accuracy = rf.score(X_train, y_train)\n",
    "\n",
    "print(f\"Training accuracy: {rf_train_accuracy:.2f}\")\n",
    "print(f\"Test accuracy: {rf_test_accuracy:.2f}\")\n",
    "\n",
    "# Calculate the accuracy of the model\n",
    "rf_accuracy_score = accuracy_score(y_test, rf_y_pred)\n",
    "print(\"Accuracy: \", rf_accuracy_score)\n",
    "\n",
    "\n",
    "# calculate the R2 score\n",
    "rf_r2 = r2_score(y_test, rf_y_pred)\n",
    "print(\"rf R2 score: \", rf_r2)\n",
    "\n",
    "# make accurarcy plots\n",
    "plotAcc('Random Forest', acc=0.9583333333333334, \n",
    "        train_acc=1.0, test_acc=1.0, r2_score=0.9471968709256845)\n",
    "\n",
    "# confusion matrix\n",
    "confMat(y_test, rf_y_pred, rf)\n",
    "\n",
    "# classification report\n",
    "\n",
    "# y_true is a list of the true class labels\n",
    "# y_pred is a list of the predicted class labels\n",
    "report = classification_report(y_test, rf_y_pred)"
   ]
  },
  {
   "cell_type": "code",
   "execution_count": null,
   "id": "607a63ef",
   "metadata": {},
   "outputs": [],
   "source": []
  },
  {
   "cell_type": "code",
   "execution_count": 341,
   "id": "7382a348",
   "metadata": {},
   "outputs": [
    {
     "name": "stdout",
     "output_type": "stream",
     "text": [
      "Training accuracy: 0.98\n",
      "Test accuracy: 0.98\n",
      "Accuracy:  0.9583333333333334\n",
      "RF R2 score:  0.9295958279009127\n"
     ]
    }
   ],
   "source": [
    "from sklearn.ensemble import RandomForestClassifier\n",
    "\n",
    "# Create a random forest classifier with 100 decision trees\n",
    "rf = RandomForestClassifier(n_estimators=100)\n",
    "\n",
    "# Train the rf on the training data\n",
    "rf.fit(train_x, train_y)\n",
    "\n",
    "# Make predictions on the test set\n",
    "rf_y_pred = rf.predict(X_test)\n",
    "\n",
    "# Get the training accuracy\n",
    "rf_train_accuracy = rf.score(X_train, y_train)\n",
    "\n",
    "# Get the test accuracy\n",
    "rf_test_accuracy = rf.score(X_train, y_train)\n",
    "\n",
    "print(f\"Training accuracy: {rf_train_accuracy:.2f}\")\n",
    "print(f\"Test accuracy: {rf_test_accuracy:.2f}\")\n",
    "\n",
    "# Calculate the accuracy of the model\n",
    "rf_accuracy = accuracy_score(y_test, rf_y_pred)\n",
    "print(\"Accuracy: \", rf_accuracy)\n",
    "\n",
    "# calculate the R2 score\n",
    "rf_r2 = r2_score(y_test, rf_y_pred)\n",
    "print(\"RF R2 score: \", rf_r2)\n"
   ]
  },
  {
   "cell_type": "code",
   "execution_count": 376,
   "id": "78256e3f",
   "metadata": {},
   "outputs": [
    {
     "data": {
      "image/png": "[encoded data removed]",
      "text/plain": [
       "<Figure size 432x288 with 1 Axes>"
      ]
     },
     "metadata": {},
     "output_type": "display_data"
    }
   ],
   "source": [
    "plotAcc('Random Forest', acc=rf_accuracy, \n",
    "        train_acc=rf_train_accuracy, test_acc=rf_test_accuracy, r2_score=rf_r2)"
   ]
  },
  {
   "cell_type": "markdown",
   "id": "333a35c1",
   "metadata": {},
   "source": [
    "The model's high training and test accuracy, as well as its high R2 score and overall accuracy, suggest that it is able to make accurate predictions on both the training and test data. The overall accuracy of 95.8% indicates a high degree of reliability in the model's ability to correctly predict the class of a sample in the dataset. The model's R2 score of 92.9% further supports this conclusion, as it indicates that a large portion of the variance in the data is explained by the model. \n",
    "\n",
    "Additionally, the similarity between the model's training and test accuracy suggests that it is not overfitting to the training data. These results suggest that the random forest model is a good fit for the given dataset and can be used to make reliable predictions."
   ]
  },
  {
   "cell_type": "code",
   "execution_count": 344,
   "id": "fe01da17",
   "metadata": {},
   "outputs": [
    {
     "data": {
      "text/plain": [
       "0.9583"
      ]
     },
     "execution_count": 344,
     "metadata": {},
     "output_type": "execute_result"
    }
   ],
   "source": [
    "round(rf_accuracy, 4)"
   ]
  },
  {
   "cell_type": "code",
   "execution_count": 346,
   "id": "989592b9",
   "metadata": {},
   "outputs": [
    {
     "data": {
      "text/plain": [
       "0.9583"
      ]
     },
     "execution_count": 346,
     "metadata": {},
     "output_type": "execute_result"
    }
   ],
   "source": [
    "round(lr_accuracy_score, 4)"
   ]
  },
  {
   "cell_type": "code",
   "execution_count": null,
   "id": "f8877de2",
   "metadata": {},
   "outputs": [],
   "source": []
  },
  {
   "cell_type": "code",
   "execution_count": null,
   "id": "a37af741",
   "metadata": {},
   "outputs": [],
   "source": []
  },
  {
   "cell_type": "markdown",
   "id": "8fe3291c",
   "metadata": {},
   "source": [
    "confusion matrix"
   ]
  },
  {
   "cell_type": "code",
   "execution_count": 342,
   "id": "ea7bd8ee",
   "metadata": {},
   "outputs": [
    {
     "name": "stdout",
     "output_type": "stream",
     "text": [
      "[[22  0  0  0  0  0]\n",
      " [ 0 12  0  2  0  0]\n",
      " [ 0  0 14  0  0  0]\n",
      " [ 0  1  0  7  0  0]\n",
      " [ 0  0  0  0 12  0]\n",
      " [ 0  0  0  0  0  2]]\n"
     ]
    },
    {
     "data": {
      "image/png": "[encoded data removed]",
      "text/plain": [
       "<Figure size 720x720 with 2 Axes>"
      ]
     },
     "metadata": {},
     "output_type": "display_data"
    },
    {
     "data": {
      "text/plain": [
       "<Figure size 432x288 with 0 Axes>"
      ]
     },
     "metadata": {},
     "output_type": "display_data"
    }
   ],
   "source": [
    "confMat(y_test, rf_y_pred, rf)"
   ]
  },
  {
   "cell_type": "markdown",
   "id": "88717b7e",
   "metadata": {},
   "source": [
    "The performance of the random forest model on the dataset is reflected in the confusion matrix, which shows that the model had high accuracy and few misclassifications. For instance, the model correctly classified all instances of the \"seboreic dermatitis\" class and all but two instances of the \"psoriasis\" class. Additionally, the model correctly classified all instances of the \"lichen planus\" and \"pityriasis rosea\" classes. However, the model did not perform as well on the \"cronic dermatitis\" and \"pityriasis rubra pilaris\" classes, with some misclassifications. Despite these misclassifications, the model still had an overall accuracy of 95.8%."
   ]
  },
  {
   "cell_type": "code",
   "execution_count": null,
   "id": "228c0e6f",
   "metadata": {},
   "outputs": [],
   "source": []
  },
  {
   "cell_type": "code",
   "execution_count": null,
   "id": "ecbe8f60",
   "metadata": {},
   "outputs": [],
   "source": []
  },
  {
   "cell_type": "markdown",
   "id": "6d96dbe7",
   "metadata": {},
   "source": [
    "classification repport"
   ]
  },
  {
   "cell_type": "code",
   "execution_count": 343,
   "id": "499d73c3",
   "metadata": {},
   "outputs": [
    {
     "name": "stdout",
     "output_type": "stream",
     "text": [
      "              precision    recall  f1-score   support\n",
      "\n",
      "           0       1.00      1.00      1.00        22\n",
      "           1       0.92      0.86      0.89        14\n",
      "           2       1.00      1.00      1.00        14\n",
      "           3       0.78      0.88      0.82         8\n",
      "           4       1.00      1.00      1.00        12\n",
      "           5       1.00      1.00      1.00         2\n",
      "\n",
      "    accuracy                           0.96        72\n",
      "   macro avg       0.95      0.96      0.95        72\n",
      "weighted avg       0.96      0.96      0.96        72\n",
      "\n"
     ]
    }
   ],
   "source": [
    "from sklearn.metrics import classification_report\n",
    "\n",
    "# y_true is a list of the true class labels\n",
    "# y_pred is a list of the predicted class labels\n",
    "report = classification_report(y_test, rf_y_pred)\n",
    "\n",
    "print(report)\n"
   ]
  },
  {
   "cell_type": "markdown",
   "id": "f54cef1e",
   "metadata": {},
   "source": [
    "The performance of the model is shown to be strong across all classes, with high precision, recall, and F1 scores, as well as high accuracy. However, there seems to be a decrease in precision and f1-score for the class with index 3 (cronic dermatitis). This may be due to the model having lower accuracy when predicting instances of this class, or there being fewer instances of this class in the test data, leading to less reliable results. Summed up, the model demonstrates the ability to accurately predict the class of each sample in the test data."
   ]
  },
  {
   "cell_type": "code",
   "execution_count": null,
   "id": "bba1f22f",
   "metadata": {},
   "outputs": [],
   "source": []
  },
  {
   "cell_type": "code",
   "execution_count": 2,
   "id": "a543cc58",
   "metadata": {},
   "outputs": [
    {
     "data": {
      "image/png": "[encoded data removed]",
      "text/plain": [
       "<Figure size 720x576 with 1 Axes>"
      ]
     },
     "metadata": {
      "needs_background": "light"
     },
     "output_type": "display_data"
    }
   ],
   "source": [
    "import matplotlib.pyplot as plt\n",
    "\n",
    "# Set the labels for the x-axis\n",
    "model_names = ['Logistic Regression', 'Decision Tree', 'Random Forest']\n",
    "\n",
    "# Set the values for each bar in the plot\n",
    "accuracy = [0.958, 0.888, 0.958]\n",
    "precision = [0.97, 0.89, 0.96]\n",
    "recall = [0.96, 0.89, 0.96]\n",
    "f1 = [0.96, 0.89, 0.96]\n",
    "\n",
    "# Set the position of the x-ticks\n",
    "x_pos = [i for i, _ in enumerate(model_names)]\n",
    "\n",
    "# Create the plot\n",
    "fig, ax = plt.subplots(figsize=(10,8))\n",
    "\n",
    "# Create the bars\n",
    "ax.bar(x_pos, accuracy, width=0.2, label='Accuracy')\n",
    "ax.bar([p + 0.2 for p in x_pos], precision, width=0.2, label='Precision')\n",
    "ax.bar([p + 0.4 for p in x_pos], recall, width=0.2, label='Recall')\n",
    "ax.bar([p + 0.6 for p in x_pos], f1, width=0.2, label='F1 Score')\n",
    "\n",
    "# Set the x-axis label\n",
    "ax.set_xlabel('Model')\n",
    "\n",
    "# Set the y-axis label\n",
    "ax.set_ylabel('Score')\n",
    "\n",
    "# Set the x-ticks\n",
    "ax.set_xticks(x_pos)\n",
    "\n",
    "# Set the x-tick labels\n",
    "ax.set_xticklabels(model_names)\n",
    "\n",
    "# Add a legend\n",
    "ax.legend()\n",
    "\n",
    "# Show the plot\n",
    "plt.show()\n"
   ]
  },
  {
   "cell_type": "markdown",
   "id": "626da645",
   "metadata": {},
   "source": [
    "Based on the results, it appears that all three models have similar performance in terms of accuracy, precision, and recall. They all have an accuracy of around 0.95, a precision of around 0.96, and a recall of around 0.96. The f1 score is also similar, with a value of around 0.89. \n",
    "\n",
    "Although the logistic regression and random forest models have similar scores, the decision tree model has lower scores across all metrics. Given these results, I would recommend the random forest model because it tends to have higher accuracy and generalizability compared to other models, especially when the data has many features or is unbalanced. Additionally, random forests are able to handle missing values and scale well with large datasets (Stekhoven and Bühlmann, 2012).\n",
    "\n",
    "Stekhoven, D.J. and Bühlmann, P., 2012. MissForest—non-parametric missing value imputation for mixed-type data. Bioinformatics, 28(1), pp.112-118."
   ]
  },
  {
   "cell_type": "code",
   "execution_count": null,
   "id": "b459678f",
   "metadata": {},
   "outputs": [],
   "source": []
  },
  {
   "cell_type": "code",
   "execution_count": null,
   "id": "27cb9f0b",
   "metadata": {},
   "outputs": [],
   "source": []
  },
  {
   "cell_type": "code",
   "execution_count": null,
   "id": "3e635a7a",
   "metadata": {},
   "outputs": [],
   "source": []
  }
 ],
 "metadata": {
  "kernelspec": {
   "display_name": "Python 3 (ipykernel)",
   "language": "python",
   "name": "python3"
  },
  "language_info": {
   "codemirror_mode": {
    "name": "ipython",
    "version": 3
   },
   "file_extension": ".py",
   "mimetype": "text/x-python",
   "name": "python",
   "nbconvert_exporter": "python",
   "pygments_lexer": "ipython3",
   "version": "3.9.7"
  }
 },
 "nbformat": 4,
 "nbformat_minor": 5
}
